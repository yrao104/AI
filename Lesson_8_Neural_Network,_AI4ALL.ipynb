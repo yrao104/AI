{
  "nbformat": 4,
  "nbformat_minor": 0,
  "metadata": {
    "colab": {
      "name": "Lesson 8_Neural_Network,_AI4ALL.ipynb",
      "provenance": [],
      "collapsed_sections": []
    },
    "kernelspec": {
      "name": "python3",
      "display_name": "Python 3"
    },
    "widgets": {
      "application/vnd.jupyter.widget-state+json": {
        "5081e02ebcbb4963b16a5402aaf58e36": {
          "model_module": "@jupyter-widgets/controls",
          "model_name": "HBoxModel",
          "state": {
            "_view_name": "HBoxView",
            "_dom_classes": [],
            "_model_name": "HBoxModel",
            "_view_module": "@jupyter-widgets/controls",
            "_model_module_version": "1.5.0",
            "_view_count": null,
            "_view_module_version": "1.5.0",
            "box_style": "",
            "layout": "IPY_MODEL_ca9eef0b8f6c4e5bbf88a4ae1f5ef790",
            "_model_module": "@jupyter-widgets/controls",
            "children": [
              "IPY_MODEL_45fe90244e5047bf97bfa162e0715eea",
              "IPY_MODEL_35b531504469470cac59a9fcca4dd468"
            ]
          }
        },
        "ca9eef0b8f6c4e5bbf88a4ae1f5ef790": {
          "model_module": "@jupyter-widgets/base",
          "model_name": "LayoutModel",
          "state": {
            "_view_name": "LayoutView",
            "grid_template_rows": null,
            "right": null,
            "justify_content": null,
            "_view_module": "@jupyter-widgets/base",
            "overflow": null,
            "_model_module_version": "1.2.0",
            "_view_count": null,
            "flex_flow": null,
            "width": null,
            "min_width": null,
            "border": null,
            "align_items": null,
            "bottom": null,
            "_model_module": "@jupyter-widgets/base",
            "top": null,
            "grid_column": null,
            "overflow_y": null,
            "overflow_x": null,
            "grid_auto_flow": null,
            "grid_area": null,
            "grid_template_columns": null,
            "flex": null,
            "_model_name": "LayoutModel",
            "justify_items": null,
            "grid_row": null,
            "max_height": null,
            "align_content": null,
            "visibility": null,
            "align_self": null,
            "height": null,
            "min_height": null,
            "padding": null,
            "grid_auto_rows": null,
            "grid_gap": null,
            "max_width": null,
            "order": null,
            "_view_module_version": "1.2.0",
            "grid_template_areas": null,
            "object_position": null,
            "object_fit": null,
            "grid_auto_columns": null,
            "margin": null,
            "display": null,
            "left": null
          }
        },
        "45fe90244e5047bf97bfa162e0715eea": {
          "model_module": "@jupyter-widgets/controls",
          "model_name": "FloatProgressModel",
          "state": {
            "_view_name": "ProgressView",
            "style": "IPY_MODEL_52ca1bb520c34e5bbb885fe25e367168",
            "_dom_classes": [],
            "description": "",
            "_model_name": "FloatProgressModel",
            "bar_style": "info",
            "max": 1,
            "_view_module": "@jupyter-widgets/controls",
            "_model_module_version": "1.5.0",
            "value": 1,
            "_view_count": null,
            "_view_module_version": "1.5.0",
            "orientation": "horizontal",
            "min": 0,
            "description_tooltip": null,
            "_model_module": "@jupyter-widgets/controls",
            "layout": "IPY_MODEL_c07b847d65764db9aa21a7b69d07130c"
          }
        },
        "35b531504469470cac59a9fcca4dd468": {
          "model_module": "@jupyter-widgets/controls",
          "model_name": "HTMLModel",
          "state": {
            "_view_name": "HTMLView",
            "style": "IPY_MODEL_4ade922d310848ee878efd7f7261df77",
            "_dom_classes": [],
            "description": "",
            "_model_name": "HTMLModel",
            "placeholder": "​",
            "_view_module": "@jupyter-widgets/controls",
            "_model_module_version": "1.5.0",
            "value": " 9920512/? [00:20&lt;00:00, 1486072.20it/s]",
            "_view_count": null,
            "_view_module_version": "1.5.0",
            "description_tooltip": null,
            "_model_module": "@jupyter-widgets/controls",
            "layout": "IPY_MODEL_43f5afb2d3f04101ba838fcee0a41593"
          }
        },
        "52ca1bb520c34e5bbb885fe25e367168": {
          "model_module": "@jupyter-widgets/controls",
          "model_name": "ProgressStyleModel",
          "state": {
            "_view_name": "StyleView",
            "_model_name": "ProgressStyleModel",
            "description_width": "initial",
            "_view_module": "@jupyter-widgets/base",
            "_model_module_version": "1.5.0",
            "_view_count": null,
            "_view_module_version": "1.2.0",
            "bar_color": null,
            "_model_module": "@jupyter-widgets/controls"
          }
        },
        "c07b847d65764db9aa21a7b69d07130c": {
          "model_module": "@jupyter-widgets/base",
          "model_name": "LayoutModel",
          "state": {
            "_view_name": "LayoutView",
            "grid_template_rows": null,
            "right": null,
            "justify_content": null,
            "_view_module": "@jupyter-widgets/base",
            "overflow": null,
            "_model_module_version": "1.2.0",
            "_view_count": null,
            "flex_flow": null,
            "width": null,
            "min_width": null,
            "border": null,
            "align_items": null,
            "bottom": null,
            "_model_module": "@jupyter-widgets/base",
            "top": null,
            "grid_column": null,
            "overflow_y": null,
            "overflow_x": null,
            "grid_auto_flow": null,
            "grid_area": null,
            "grid_template_columns": null,
            "flex": null,
            "_model_name": "LayoutModel",
            "justify_items": null,
            "grid_row": null,
            "max_height": null,
            "align_content": null,
            "visibility": null,
            "align_self": null,
            "height": null,
            "min_height": null,
            "padding": null,
            "grid_auto_rows": null,
            "grid_gap": null,
            "max_width": null,
            "order": null,
            "_view_module_version": "1.2.0",
            "grid_template_areas": null,
            "object_position": null,
            "object_fit": null,
            "grid_auto_columns": null,
            "margin": null,
            "display": null,
            "left": null
          }
        },
        "4ade922d310848ee878efd7f7261df77": {
          "model_module": "@jupyter-widgets/controls",
          "model_name": "DescriptionStyleModel",
          "state": {
            "_view_name": "StyleView",
            "_model_name": "DescriptionStyleModel",
            "description_width": "",
            "_view_module": "@jupyter-widgets/base",
            "_model_module_version": "1.5.0",
            "_view_count": null,
            "_view_module_version": "1.2.0",
            "_model_module": "@jupyter-widgets/controls"
          }
        },
        "43f5afb2d3f04101ba838fcee0a41593": {
          "model_module": "@jupyter-widgets/base",
          "model_name": "LayoutModel",
          "state": {
            "_view_name": "LayoutView",
            "grid_template_rows": null,
            "right": null,
            "justify_content": null,
            "_view_module": "@jupyter-widgets/base",
            "overflow": null,
            "_model_module_version": "1.2.0",
            "_view_count": null,
            "flex_flow": null,
            "width": null,
            "min_width": null,
            "border": null,
            "align_items": null,
            "bottom": null,
            "_model_module": "@jupyter-widgets/base",
            "top": null,
            "grid_column": null,
            "overflow_y": null,
            "overflow_x": null,
            "grid_auto_flow": null,
            "grid_area": null,
            "grid_template_columns": null,
            "flex": null,
            "_model_name": "LayoutModel",
            "justify_items": null,
            "grid_row": null,
            "max_height": null,
            "align_content": null,
            "visibility": null,
            "align_self": null,
            "height": null,
            "min_height": null,
            "padding": null,
            "grid_auto_rows": null,
            "grid_gap": null,
            "max_width": null,
            "order": null,
            "_view_module_version": "1.2.0",
            "grid_template_areas": null,
            "object_position": null,
            "object_fit": null,
            "grid_auto_columns": null,
            "margin": null,
            "display": null,
            "left": null
          }
        },
        "cfb56a977ebe460bb3ea9dd48245c29c": {
          "model_module": "@jupyter-widgets/controls",
          "model_name": "HBoxModel",
          "state": {
            "_view_name": "HBoxView",
            "_dom_classes": [],
            "_model_name": "HBoxModel",
            "_view_module": "@jupyter-widgets/controls",
            "_model_module_version": "1.5.0",
            "_view_count": null,
            "_view_module_version": "1.5.0",
            "box_style": "",
            "layout": "IPY_MODEL_f1fa16d09b56434881f355538a022b5a",
            "_model_module": "@jupyter-widgets/controls",
            "children": [
              "IPY_MODEL_77844d5ca0f54791994fb648af9bb477",
              "IPY_MODEL_4292084619db4115b5c95f7b57884d50"
            ]
          }
        },
        "f1fa16d09b56434881f355538a022b5a": {
          "model_module": "@jupyter-widgets/base",
          "model_name": "LayoutModel",
          "state": {
            "_view_name": "LayoutView",
            "grid_template_rows": null,
            "right": null,
            "justify_content": null,
            "_view_module": "@jupyter-widgets/base",
            "overflow": null,
            "_model_module_version": "1.2.0",
            "_view_count": null,
            "flex_flow": null,
            "width": null,
            "min_width": null,
            "border": null,
            "align_items": null,
            "bottom": null,
            "_model_module": "@jupyter-widgets/base",
            "top": null,
            "grid_column": null,
            "overflow_y": null,
            "overflow_x": null,
            "grid_auto_flow": null,
            "grid_area": null,
            "grid_template_columns": null,
            "flex": null,
            "_model_name": "LayoutModel",
            "justify_items": null,
            "grid_row": null,
            "max_height": null,
            "align_content": null,
            "visibility": null,
            "align_self": null,
            "height": null,
            "min_height": null,
            "padding": null,
            "grid_auto_rows": null,
            "grid_gap": null,
            "max_width": null,
            "order": null,
            "_view_module_version": "1.2.0",
            "grid_template_areas": null,
            "object_position": null,
            "object_fit": null,
            "grid_auto_columns": null,
            "margin": null,
            "display": null,
            "left": null
          }
        },
        "77844d5ca0f54791994fb648af9bb477": {
          "model_module": "@jupyter-widgets/controls",
          "model_name": "FloatProgressModel",
          "state": {
            "_view_name": "ProgressView",
            "style": "IPY_MODEL_f0eae427ef6c472db5f0993c9813cb3a",
            "_dom_classes": [],
            "description": "",
            "_model_name": "FloatProgressModel",
            "bar_style": "info",
            "max": 1,
            "_view_module": "@jupyter-widgets/controls",
            "_model_module_version": "1.5.0",
            "value": 1,
            "_view_count": null,
            "_view_module_version": "1.5.0",
            "orientation": "horizontal",
            "min": 0,
            "description_tooltip": null,
            "_model_module": "@jupyter-widgets/controls",
            "layout": "IPY_MODEL_253e08ef54c74205ba60098238100286"
          }
        },
        "4292084619db4115b5c95f7b57884d50": {
          "model_module": "@jupyter-widgets/controls",
          "model_name": "HTMLModel",
          "state": {
            "_view_name": "HTMLView",
            "style": "IPY_MODEL_f6db6595e4f3460ba6ccf85420c77210",
            "_dom_classes": [],
            "description": "",
            "_model_name": "HTMLModel",
            "placeholder": "​",
            "_view_module": "@jupyter-widgets/controls",
            "_model_module_version": "1.5.0",
            "value": " 32768/? [00:15&lt;00:00, 91618.76it/s]",
            "_view_count": null,
            "_view_module_version": "1.5.0",
            "description_tooltip": null,
            "_model_module": "@jupyter-widgets/controls",
            "layout": "IPY_MODEL_08527a24caac4733a63221385b49678a"
          }
        },
        "f0eae427ef6c472db5f0993c9813cb3a": {
          "model_module": "@jupyter-widgets/controls",
          "model_name": "ProgressStyleModel",
          "state": {
            "_view_name": "StyleView",
            "_model_name": "ProgressStyleModel",
            "description_width": "initial",
            "_view_module": "@jupyter-widgets/base",
            "_model_module_version": "1.5.0",
            "_view_count": null,
            "_view_module_version": "1.2.0",
            "bar_color": null,
            "_model_module": "@jupyter-widgets/controls"
          }
        },
        "253e08ef54c74205ba60098238100286": {
          "model_module": "@jupyter-widgets/base",
          "model_name": "LayoutModel",
          "state": {
            "_view_name": "LayoutView",
            "grid_template_rows": null,
            "right": null,
            "justify_content": null,
            "_view_module": "@jupyter-widgets/base",
            "overflow": null,
            "_model_module_version": "1.2.0",
            "_view_count": null,
            "flex_flow": null,
            "width": null,
            "min_width": null,
            "border": null,
            "align_items": null,
            "bottom": null,
            "_model_module": "@jupyter-widgets/base",
            "top": null,
            "grid_column": null,
            "overflow_y": null,
            "overflow_x": null,
            "grid_auto_flow": null,
            "grid_area": null,
            "grid_template_columns": null,
            "flex": null,
            "_model_name": "LayoutModel",
            "justify_items": null,
            "grid_row": null,
            "max_height": null,
            "align_content": null,
            "visibility": null,
            "align_self": null,
            "height": null,
            "min_height": null,
            "padding": null,
            "grid_auto_rows": null,
            "grid_gap": null,
            "max_width": null,
            "order": null,
            "_view_module_version": "1.2.0",
            "grid_template_areas": null,
            "object_position": null,
            "object_fit": null,
            "grid_auto_columns": null,
            "margin": null,
            "display": null,
            "left": null
          }
        },
        "f6db6595e4f3460ba6ccf85420c77210": {
          "model_module": "@jupyter-widgets/controls",
          "model_name": "DescriptionStyleModel",
          "state": {
            "_view_name": "StyleView",
            "_model_name": "DescriptionStyleModel",
            "description_width": "",
            "_view_module": "@jupyter-widgets/base",
            "_model_module_version": "1.5.0",
            "_view_count": null,
            "_view_module_version": "1.2.0",
            "_model_module": "@jupyter-widgets/controls"
          }
        },
        "08527a24caac4733a63221385b49678a": {
          "model_module": "@jupyter-widgets/base",
          "model_name": "LayoutModel",
          "state": {
            "_view_name": "LayoutView",
            "grid_template_rows": null,
            "right": null,
            "justify_content": null,
            "_view_module": "@jupyter-widgets/base",
            "overflow": null,
            "_model_module_version": "1.2.0",
            "_view_count": null,
            "flex_flow": null,
            "width": null,
            "min_width": null,
            "border": null,
            "align_items": null,
            "bottom": null,
            "_model_module": "@jupyter-widgets/base",
            "top": null,
            "grid_column": null,
            "overflow_y": null,
            "overflow_x": null,
            "grid_auto_flow": null,
            "grid_area": null,
            "grid_template_columns": null,
            "flex": null,
            "_model_name": "LayoutModel",
            "justify_items": null,
            "grid_row": null,
            "max_height": null,
            "align_content": null,
            "visibility": null,
            "align_self": null,
            "height": null,
            "min_height": null,
            "padding": null,
            "grid_auto_rows": null,
            "grid_gap": null,
            "max_width": null,
            "order": null,
            "_view_module_version": "1.2.0",
            "grid_template_areas": null,
            "object_position": null,
            "object_fit": null,
            "grid_auto_columns": null,
            "margin": null,
            "display": null,
            "left": null
          }
        },
        "a265483391c449c6ad5ba99f7da0e39b": {
          "model_module": "@jupyter-widgets/controls",
          "model_name": "HBoxModel",
          "state": {
            "_view_name": "HBoxView",
            "_dom_classes": [],
            "_model_name": "HBoxModel",
            "_view_module": "@jupyter-widgets/controls",
            "_model_module_version": "1.5.0",
            "_view_count": null,
            "_view_module_version": "1.5.0",
            "box_style": "",
            "layout": "IPY_MODEL_4faf2bc188e241ef8ba9d764b296fdda",
            "_model_module": "@jupyter-widgets/controls",
            "children": [
              "IPY_MODEL_aeb4efdad0364bebad3cea6897d9ea55",
              "IPY_MODEL_5fcc8796bee342ddbbb273a417e52f2b"
            ]
          }
        },
        "4faf2bc188e241ef8ba9d764b296fdda": {
          "model_module": "@jupyter-widgets/base",
          "model_name": "LayoutModel",
          "state": {
            "_view_name": "LayoutView",
            "grid_template_rows": null,
            "right": null,
            "justify_content": null,
            "_view_module": "@jupyter-widgets/base",
            "overflow": null,
            "_model_module_version": "1.2.0",
            "_view_count": null,
            "flex_flow": null,
            "width": null,
            "min_width": null,
            "border": null,
            "align_items": null,
            "bottom": null,
            "_model_module": "@jupyter-widgets/base",
            "top": null,
            "grid_column": null,
            "overflow_y": null,
            "overflow_x": null,
            "grid_auto_flow": null,
            "grid_area": null,
            "grid_template_columns": null,
            "flex": null,
            "_model_name": "LayoutModel",
            "justify_items": null,
            "grid_row": null,
            "max_height": null,
            "align_content": null,
            "visibility": null,
            "align_self": null,
            "height": null,
            "min_height": null,
            "padding": null,
            "grid_auto_rows": null,
            "grid_gap": null,
            "max_width": null,
            "order": null,
            "_view_module_version": "1.2.0",
            "grid_template_areas": null,
            "object_position": null,
            "object_fit": null,
            "grid_auto_columns": null,
            "margin": null,
            "display": null,
            "left": null
          }
        },
        "aeb4efdad0364bebad3cea6897d9ea55": {
          "model_module": "@jupyter-widgets/controls",
          "model_name": "FloatProgressModel",
          "state": {
            "_view_name": "ProgressView",
            "style": "IPY_MODEL_8e3b17374472498ab1ac82d930e12460",
            "_dom_classes": [],
            "description": "",
            "_model_name": "FloatProgressModel",
            "bar_style": "info",
            "max": 1,
            "_view_module": "@jupyter-widgets/controls",
            "_model_module_version": "1.5.0",
            "value": 1,
            "_view_count": null,
            "_view_module_version": "1.5.0",
            "orientation": "horizontal",
            "min": 0,
            "description_tooltip": null,
            "_model_module": "@jupyter-widgets/controls",
            "layout": "IPY_MODEL_cbcf6a3295bc4b5c9f619c50a1d5a2f4"
          }
        },
        "5fcc8796bee342ddbbb273a417e52f2b": {
          "model_module": "@jupyter-widgets/controls",
          "model_name": "HTMLModel",
          "state": {
            "_view_name": "HTMLView",
            "style": "IPY_MODEL_d708977405424c32a9867e5ee2a58e31",
            "_dom_classes": [],
            "description": "",
            "_model_name": "HTMLModel",
            "placeholder": "​",
            "_view_module": "@jupyter-widgets/controls",
            "_model_module_version": "1.5.0",
            "value": " 1654784/? [00:15&lt;00:00, 285291.61it/s]",
            "_view_count": null,
            "_view_module_version": "1.5.0",
            "description_tooltip": null,
            "_model_module": "@jupyter-widgets/controls",
            "layout": "IPY_MODEL_b8d9cb6d68574ecd8d0c8c914b89ddaf"
          }
        },
        "8e3b17374472498ab1ac82d930e12460": {
          "model_module": "@jupyter-widgets/controls",
          "model_name": "ProgressStyleModel",
          "state": {
            "_view_name": "StyleView",
            "_model_name": "ProgressStyleModel",
            "description_width": "initial",
            "_view_module": "@jupyter-widgets/base",
            "_model_module_version": "1.5.0",
            "_view_count": null,
            "_view_module_version": "1.2.0",
            "bar_color": null,
            "_model_module": "@jupyter-widgets/controls"
          }
        },
        "cbcf6a3295bc4b5c9f619c50a1d5a2f4": {
          "model_module": "@jupyter-widgets/base",
          "model_name": "LayoutModel",
          "state": {
            "_view_name": "LayoutView",
            "grid_template_rows": null,
            "right": null,
            "justify_content": null,
            "_view_module": "@jupyter-widgets/base",
            "overflow": null,
            "_model_module_version": "1.2.0",
            "_view_count": null,
            "flex_flow": null,
            "width": null,
            "min_width": null,
            "border": null,
            "align_items": null,
            "bottom": null,
            "_model_module": "@jupyter-widgets/base",
            "top": null,
            "grid_column": null,
            "overflow_y": null,
            "overflow_x": null,
            "grid_auto_flow": null,
            "grid_area": null,
            "grid_template_columns": null,
            "flex": null,
            "_model_name": "LayoutModel",
            "justify_items": null,
            "grid_row": null,
            "max_height": null,
            "align_content": null,
            "visibility": null,
            "align_self": null,
            "height": null,
            "min_height": null,
            "padding": null,
            "grid_auto_rows": null,
            "grid_gap": null,
            "max_width": null,
            "order": null,
            "_view_module_version": "1.2.0",
            "grid_template_areas": null,
            "object_position": null,
            "object_fit": null,
            "grid_auto_columns": null,
            "margin": null,
            "display": null,
            "left": null
          }
        },
        "d708977405424c32a9867e5ee2a58e31": {
          "model_module": "@jupyter-widgets/controls",
          "model_name": "DescriptionStyleModel",
          "state": {
            "_view_name": "StyleView",
            "_model_name": "DescriptionStyleModel",
            "description_width": "",
            "_view_module": "@jupyter-widgets/base",
            "_model_module_version": "1.5.0",
            "_view_count": null,
            "_view_module_version": "1.2.0",
            "_model_module": "@jupyter-widgets/controls"
          }
        },
        "b8d9cb6d68574ecd8d0c8c914b89ddaf": {
          "model_module": "@jupyter-widgets/base",
          "model_name": "LayoutModel",
          "state": {
            "_view_name": "LayoutView",
            "grid_template_rows": null,
            "right": null,
            "justify_content": null,
            "_view_module": "@jupyter-widgets/base",
            "overflow": null,
            "_model_module_version": "1.2.0",
            "_view_count": null,
            "flex_flow": null,
            "width": null,
            "min_width": null,
            "border": null,
            "align_items": null,
            "bottom": null,
            "_model_module": "@jupyter-widgets/base",
            "top": null,
            "grid_column": null,
            "overflow_y": null,
            "overflow_x": null,
            "grid_auto_flow": null,
            "grid_area": null,
            "grid_template_columns": null,
            "flex": null,
            "_model_name": "LayoutModel",
            "justify_items": null,
            "grid_row": null,
            "max_height": null,
            "align_content": null,
            "visibility": null,
            "align_self": null,
            "height": null,
            "min_height": null,
            "padding": null,
            "grid_auto_rows": null,
            "grid_gap": null,
            "max_width": null,
            "order": null,
            "_view_module_version": "1.2.0",
            "grid_template_areas": null,
            "object_position": null,
            "object_fit": null,
            "grid_auto_columns": null,
            "margin": null,
            "display": null,
            "left": null
          }
        },
        "f4bcca24cb774e3ca00d3ed7a5bd1c47": {
          "model_module": "@jupyter-widgets/controls",
          "model_name": "HBoxModel",
          "state": {
            "_view_name": "HBoxView",
            "_dom_classes": [],
            "_model_name": "HBoxModel",
            "_view_module": "@jupyter-widgets/controls",
            "_model_module_version": "1.5.0",
            "_view_count": null,
            "_view_module_version": "1.5.0",
            "box_style": "",
            "layout": "IPY_MODEL_28dbdf63b1994c69a0cbaa8162a97c85",
            "_model_module": "@jupyter-widgets/controls",
            "children": [
              "IPY_MODEL_95d4cf36fe614ec682ac5dcf796268b1",
              "IPY_MODEL_890599965db74e9890cf117fe9c76e3a"
            ]
          }
        },
        "28dbdf63b1994c69a0cbaa8162a97c85": {
          "model_module": "@jupyter-widgets/base",
          "model_name": "LayoutModel",
          "state": {
            "_view_name": "LayoutView",
            "grid_template_rows": null,
            "right": null,
            "justify_content": null,
            "_view_module": "@jupyter-widgets/base",
            "overflow": null,
            "_model_module_version": "1.2.0",
            "_view_count": null,
            "flex_flow": null,
            "width": null,
            "min_width": null,
            "border": null,
            "align_items": null,
            "bottom": null,
            "_model_module": "@jupyter-widgets/base",
            "top": null,
            "grid_column": null,
            "overflow_y": null,
            "overflow_x": null,
            "grid_auto_flow": null,
            "grid_area": null,
            "grid_template_columns": null,
            "flex": null,
            "_model_name": "LayoutModel",
            "justify_items": null,
            "grid_row": null,
            "max_height": null,
            "align_content": null,
            "visibility": null,
            "align_self": null,
            "height": null,
            "min_height": null,
            "padding": null,
            "grid_auto_rows": null,
            "grid_gap": null,
            "max_width": null,
            "order": null,
            "_view_module_version": "1.2.0",
            "grid_template_areas": null,
            "object_position": null,
            "object_fit": null,
            "grid_auto_columns": null,
            "margin": null,
            "display": null,
            "left": null
          }
        },
        "95d4cf36fe614ec682ac5dcf796268b1": {
          "model_module": "@jupyter-widgets/controls",
          "model_name": "FloatProgressModel",
          "state": {
            "_view_name": "ProgressView",
            "style": "IPY_MODEL_ef18051a724b40598d5d432f404f258e",
            "_dom_classes": [],
            "description": "  0%",
            "_model_name": "FloatProgressModel",
            "bar_style": "info",
            "max": 1,
            "_view_module": "@jupyter-widgets/controls",
            "_model_module_version": "1.5.0",
            "value": 0,
            "_view_count": null,
            "_view_module_version": "1.5.0",
            "orientation": "horizontal",
            "min": 0,
            "description_tooltip": null,
            "_model_module": "@jupyter-widgets/controls",
            "layout": "IPY_MODEL_9bda15715e5d4f18a46e7b2963e37336"
          }
        },
        "890599965db74e9890cf117fe9c76e3a": {
          "model_module": "@jupyter-widgets/controls",
          "model_name": "HTMLModel",
          "state": {
            "_view_name": "HTMLView",
            "style": "IPY_MODEL_6dc0894b25e140fb883e7df2c942b9cf",
            "_dom_classes": [],
            "description": "",
            "_model_name": "HTMLModel",
            "placeholder": "​",
            "_view_module": "@jupyter-widgets/controls",
            "_model_module_version": "1.5.0",
            "value": " 0/4542 [00:00&lt;?, ?it/s]",
            "_view_count": null,
            "_view_module_version": "1.5.0",
            "description_tooltip": null,
            "_model_module": "@jupyter-widgets/controls",
            "layout": "IPY_MODEL_b203357dd69c4e4199960e3588dfad0b"
          }
        },
        "ef18051a724b40598d5d432f404f258e": {
          "model_module": "@jupyter-widgets/controls",
          "model_name": "ProgressStyleModel",
          "state": {
            "_view_name": "StyleView",
            "_model_name": "ProgressStyleModel",
            "description_width": "initial",
            "_view_module": "@jupyter-widgets/base",
            "_model_module_version": "1.5.0",
            "_view_count": null,
            "_view_module_version": "1.2.0",
            "bar_color": null,
            "_model_module": "@jupyter-widgets/controls"
          }
        },
        "9bda15715e5d4f18a46e7b2963e37336": {
          "model_module": "@jupyter-widgets/base",
          "model_name": "LayoutModel",
          "state": {
            "_view_name": "LayoutView",
            "grid_template_rows": null,
            "right": null,
            "justify_content": null,
            "_view_module": "@jupyter-widgets/base",
            "overflow": null,
            "_model_module_version": "1.2.0",
            "_view_count": null,
            "flex_flow": null,
            "width": null,
            "min_width": null,
            "border": null,
            "align_items": null,
            "bottom": null,
            "_model_module": "@jupyter-widgets/base",
            "top": null,
            "grid_column": null,
            "overflow_y": null,
            "overflow_x": null,
            "grid_auto_flow": null,
            "grid_area": null,
            "grid_template_columns": null,
            "flex": null,
            "_model_name": "LayoutModel",
            "justify_items": null,
            "grid_row": null,
            "max_height": null,
            "align_content": null,
            "visibility": null,
            "align_self": null,
            "height": null,
            "min_height": null,
            "padding": null,
            "grid_auto_rows": null,
            "grid_gap": null,
            "max_width": null,
            "order": null,
            "_view_module_version": "1.2.0",
            "grid_template_areas": null,
            "object_position": null,
            "object_fit": null,
            "grid_auto_columns": null,
            "margin": null,
            "display": null,
            "left": null
          }
        },
        "6dc0894b25e140fb883e7df2c942b9cf": {
          "model_module": "@jupyter-widgets/controls",
          "model_name": "DescriptionStyleModel",
          "state": {
            "_view_name": "StyleView",
            "_model_name": "DescriptionStyleModel",
            "description_width": "",
            "_view_module": "@jupyter-widgets/base",
            "_model_module_version": "1.5.0",
            "_view_count": null,
            "_view_module_version": "1.2.0",
            "_model_module": "@jupyter-widgets/controls"
          }
        },
        "b203357dd69c4e4199960e3588dfad0b": {
          "model_module": "@jupyter-widgets/base",
          "model_name": "LayoutModel",
          "state": {
            "_view_name": "LayoutView",
            "grid_template_rows": null,
            "right": null,
            "justify_content": null,
            "_view_module": "@jupyter-widgets/base",
            "overflow": null,
            "_model_module_version": "1.2.0",
            "_view_count": null,
            "flex_flow": null,
            "width": null,
            "min_width": null,
            "border": null,
            "align_items": null,
            "bottom": null,
            "_model_module": "@jupyter-widgets/base",
            "top": null,
            "grid_column": null,
            "overflow_y": null,
            "overflow_x": null,
            "grid_auto_flow": null,
            "grid_area": null,
            "grid_template_columns": null,
            "flex": null,
            "_model_name": "LayoutModel",
            "justify_items": null,
            "grid_row": null,
            "max_height": null,
            "align_content": null,
            "visibility": null,
            "align_self": null,
            "height": null,
            "min_height": null,
            "padding": null,
            "grid_auto_rows": null,
            "grid_gap": null,
            "max_width": null,
            "order": null,
            "_view_module_version": "1.2.0",
            "grid_template_areas": null,
            "object_position": null,
            "object_fit": null,
            "grid_auto_columns": null,
            "margin": null,
            "display": null,
            "left": null
          }
        }
      }
    }
  },
  "cells": [
    {
      "cell_type": "markdown",
      "metadata": {
        "id": "WXuQghrJff5_",
        "colab_type": "text"
      },
      "source": [
        "### Exercise 1: Training a Feed-Forward Neural Network on MNIST\n",
        "\n",
        "Now that we've covered the basics of neural networks, let's examine what a typical training process looks like. In this notebook, we'll go through the classic MNIST dataset.\n",
        "\n",
        "The Modified National Institute of Standards and Technology (MNIST) set is a database of handwritten digits, containing 60,000 examples for training and 10,000 test examples. This is a classic test set for machine learning algorithms, and is widely-used as a benchmark for new learning algorithms."
      ]
    },
    {
      "cell_type": "code",
      "metadata": {
        "id": "0Ira_dfvfVgC",
        "colab_type": "code",
        "colab": {}
      },
      "source": [
        "### Import all the necessary libraries\n",
        "import numpy as np\n",
        "from matplotlib import pyplot as plt\n",
        "\n",
        "import torch\n",
        "import torch.nn as nn\n",
        "import torch.nn.functional as F\n",
        "import torch.optim as optim\n",
        "\n",
        "import torchvision\n",
        "from torchvision import datasets, transforms\n",
        "\n",
        "%matplotlib inline \n",
        "\n",
        "# We can designate a flag for gpu_support\n",
        "# In this case we'll run everything on CPU,\n",
        "# so we set the following flag to false.\n",
        "use_cuda = False\n",
        "device = torch.device(\"cuda\" if use_cuda else \"cpu\")"
      ],
      "execution_count": null,
      "outputs": []
    },
    {
      "cell_type": "markdown",
      "metadata": {
        "id": "gwz1pPg_gm3a",
        "colab_type": "text"
      },
      "source": [
        "In lecture, we discussed simple neural network implementations. In this notebook, we specifically outline four typical steps in neural network training:\n",
        "\n",
        "    1) Load your data appropriately into training, validation, and test sets.\n",
        "    2) Define your network architecture \n",
        "    3) Define your optimization criterion and method\n",
        "    4) Train and evaluate your model"
      ]
    },
    {
      "cell_type": "markdown",
      "metadata": {
        "id": "Jtq5yChjgzkA",
        "colab_type": "text"
      },
      "source": [
        "### 1) Loading the MNIST Dataset\n",
        "We normalize the inputs using the following transforms. In this case, the magic numbers 0.1307 and 0.3081 refer to the *mean* and *std* of the MNIST training set.\n",
        "\n",
        "In this case, MNIST is already a toy dataset built into PyTorch, and are abstracted away for simplicity. In general, the dataset object can be customized for your own dataset needs. For your own custom datasets check out the PyTorch tutorial: https://pytorch.org/tutorials/beginner/data_loading_tutorial.html"
      ]
    },
    {
      "cell_type": "code",
      "metadata": {
        "id": "ZRnIqcRQfcaA",
        "colab_type": "code",
        "colab": {
          "base_uri": "https://localhost:8080/",
          "height": 356,
          "referenced_widgets": [
            "5081e02ebcbb4963b16a5402aaf58e36",
            "ca9eef0b8f6c4e5bbf88a4ae1f5ef790",
            "45fe90244e5047bf97bfa162e0715eea",
            "35b531504469470cac59a9fcca4dd468",
            "52ca1bb520c34e5bbb885fe25e367168",
            "c07b847d65764db9aa21a7b69d07130c",
            "4ade922d310848ee878efd7f7261df77",
            "43f5afb2d3f04101ba838fcee0a41593",
            "cfb56a977ebe460bb3ea9dd48245c29c",
            "f1fa16d09b56434881f355538a022b5a",
            "77844d5ca0f54791994fb648af9bb477",
            "4292084619db4115b5c95f7b57884d50",
            "f0eae427ef6c472db5f0993c9813cb3a",
            "253e08ef54c74205ba60098238100286",
            "f6db6595e4f3460ba6ccf85420c77210",
            "08527a24caac4733a63221385b49678a",
            "a265483391c449c6ad5ba99f7da0e39b",
            "4faf2bc188e241ef8ba9d764b296fdda",
            "aeb4efdad0364bebad3cea6897d9ea55",
            "5fcc8796bee342ddbbb273a417e52f2b",
            "8e3b17374472498ab1ac82d930e12460",
            "cbcf6a3295bc4b5c9f619c50a1d5a2f4",
            "d708977405424c32a9867e5ee2a58e31",
            "b8d9cb6d68574ecd8d0c8c914b89ddaf",
            "f4bcca24cb774e3ca00d3ed7a5bd1c47",
            "28dbdf63b1994c69a0cbaa8162a97c85",
            "95d4cf36fe614ec682ac5dcf796268b1",
            "890599965db74e9890cf117fe9c76e3a",
            "ef18051a724b40598d5d432f404f258e",
            "9bda15715e5d4f18a46e7b2963e37336",
            "6dc0894b25e140fb883e7df2c942b9cf",
            "b203357dd69c4e4199960e3588dfad0b"
          ]
        },
        "outputId": "94fac6c3-0f47-4399-b999-9aed68e834b4"
      },
      "source": [
        "train_dataset = datasets.MNIST('../data',\n",
        "                   train=True,\n",
        "                   download=True,\n",
        "                   transform=transforms.Compose([\n",
        "                       transforms.ToTensor(),\n",
        "                       transforms.Normalize((0.1307,), (0.3081,))\n",
        "                   ]))\n",
        "                               \n",
        "test_dataset = datasets.MNIST('../data',\n",
        "                   train=False,\n",
        "                   download=True,\n",
        "                   transform=transforms.Compose([\n",
        "                       transforms.ToTensor(),\n",
        "                       transforms.Normalize((0.1307,), (0.3081,))\n",
        "                   ]))"
      ],
      "execution_count": null,
      "outputs": [
        {
          "output_type": "stream",
          "text": [
            "Downloading http://yann.lecun.com/exdb/mnist/train-images-idx3-ubyte.gz to ../data/MNIST/raw/train-images-idx3-ubyte.gz\n"
          ],
          "name": "stdout"
        },
        {
          "output_type": "display_data",
          "data": {
            "application/vnd.jupyter.widget-view+json": {
              "model_id": "5081e02ebcbb4963b16a5402aaf58e36",
              "version_minor": 0,
              "version_major": 2
            },
            "text/plain": [
              "HBox(children=(FloatProgress(value=1.0, bar_style='info', max=1.0), HTML(value='')))"
            ]
          },
          "metadata": {
            "tags": []
          }
        },
        {
          "output_type": "stream",
          "text": [
            "Extracting ../data/MNIST/raw/train-images-idx3-ubyte.gz to ../data/MNIST/raw\n",
            "Downloading http://yann.lecun.com/exdb/mnist/train-labels-idx1-ubyte.gz to ../data/MNIST/raw/train-labels-idx1-ubyte.gz\n"
          ],
          "name": "stdout"
        },
        {
          "output_type": "display_data",
          "data": {
            "application/vnd.jupyter.widget-view+json": {
              "model_id": "cfb56a977ebe460bb3ea9dd48245c29c",
              "version_minor": 0,
              "version_major": 2
            },
            "text/plain": [
              "HBox(children=(FloatProgress(value=1.0, bar_style='info', max=1.0), HTML(value='')))"
            ]
          },
          "metadata": {
            "tags": []
          }
        },
        {
          "output_type": "stream",
          "text": [
            "Extracting ../data/MNIST/raw/train-labels-idx1-ubyte.gz to ../data/MNIST/raw\n",
            "Downloading http://yann.lecun.com/exdb/mnist/t10k-images-idx3-ubyte.gz to ../data/MNIST/raw/t10k-images-idx3-ubyte.gz\n"
          ],
          "name": "stdout"
        },
        {
          "output_type": "display_data",
          "data": {
            "application/vnd.jupyter.widget-view+json": {
              "model_id": "a265483391c449c6ad5ba99f7da0e39b",
              "version_minor": 0,
              "version_major": 2
            },
            "text/plain": [
              "HBox(children=(FloatProgress(value=1.0, bar_style='info', max=1.0), HTML(value='')))"
            ]
          },
          "metadata": {
            "tags": []
          }
        },
        {
          "output_type": "stream",
          "text": [
            "Extracting ../data/MNIST/raw/t10k-images-idx3-ubyte.gz to ../data/MNIST/raw\n",
            "Downloading http://yann.lecun.com/exdb/mnist/t10k-labels-idx1-ubyte.gz to ../data/MNIST/raw/t10k-labels-idx1-ubyte.gz\n"
          ],
          "name": "stdout"
        },
        {
          "output_type": "display_data",
          "data": {
            "application/vnd.jupyter.widget-view+json": {
              "model_id": "f4bcca24cb774e3ca00d3ed7a5bd1c47",
              "version_minor": 0,
              "version_major": 2
            },
            "text/plain": [
              "HBox(children=(FloatProgress(value=1.0, bar_style='info', max=1.0), HTML(value='')))"
            ]
          },
          "metadata": {
            "tags": []
          }
        },
        {
          "output_type": "stream",
          "text": [
            "Extracting ../data/MNIST/raw/t10k-labels-idx1-ubyte.gz to ../data/MNIST/raw\n",
            "Processing...\n",
            "Done!\n"
          ],
          "name": "stdout"
        },
        {
          "output_type": "stream",
          "text": [
            "/pytorch/torch/csrc/utils/tensor_numpy.cpp:141: UserWarning: The given NumPy array is not writeable, and PyTorch does not support non-writeable tensors. This means you can write to the underlying (supposedly non-writeable) NumPy array using the tensor. You may want to copy the array to protect its data or make it writeable before converting it to a tensor. This type of warning will be suppressed for the rest of this program.\n"
          ],
          "name": "stderr"
        }
      ]
    },
    {
      "cell_type": "code",
      "metadata": {
        "id": "8DCAocdO5JzY",
        "colab_type": "code",
        "colab": {
          "base_uri": "https://localhost:8080/",
          "height": 173
        },
        "outputId": "3a36fdeb-fcf5-484c-e55b-6a2fd210ff9b"
      },
      "source": [
        "test_dataset"
      ],
      "execution_count": null,
      "outputs": [
        {
          "output_type": "execute_result",
          "data": {
            "text/plain": [
              "Dataset MNIST\n",
              "    Number of datapoints: 10000\n",
              "    Root location: ../data\n",
              "    Split: Test\n",
              "    StandardTransform\n",
              "Transform: Compose(\n",
              "               ToTensor()\n",
              "               Normalize(mean=(0.1307,), std=(0.3081,))\n",
              "           )"
            ]
          },
          "metadata": {
            "tags": []
          },
          "execution_count": 3
        }
      ]
    },
    {
      "cell_type": "code",
      "metadata": {
        "id": "7jvy3rlCgz9p",
        "colab_type": "code",
        "colab": {
          "base_uri": "https://localhost:8080/",
          "height": 173
        },
        "outputId": "38efcac0-6515-4615-d94b-786bb417bf36"
      },
      "source": [
        "train_dataset"
      ],
      "execution_count": null,
      "outputs": [
        {
          "output_type": "execute_result",
          "data": {
            "text/plain": [
              "Dataset MNIST\n",
              "    Number of datapoints: 60000\n",
              "    Root location: ../data\n",
              "    Split: Train\n",
              "    StandardTransform\n",
              "Transform: Compose(\n",
              "               ToTensor()\n",
              "               Normalize(mean=(0.1307,), std=(0.3081,))\n",
              "           )"
            ]
          },
          "metadata": {
            "tags": []
          },
          "execution_count": 4
        }
      ]
    },
    {
      "cell_type": "code",
      "metadata": {
        "id": "ToFxJH9CgpVw",
        "colab_type": "code",
        "colab": {}
      },
      "source": [
        ""
      ],
      "execution_count": null,
      "outputs": []
    },
    {
      "cell_type": "code",
      "metadata": {
        "id": "nuqfjDKu332d",
        "colab_type": "code",
        "colab": {
          "base_uri": "https://localhost:8080/",
          "height": 1000
        },
        "outputId": "d91c12cf-03bf-41c5-c098-11be04e52cdc"
      },
      "source": [
        "train_dataset[3] # look at the third example in the dataset"
      ],
      "execution_count": null,
      "outputs": [
        {
          "output_type": "execute_result",
          "data": {
            "text/plain": [
              "(tensor([[[-0.4242, -0.4242, -0.4242, -0.4242, -0.4242, -0.4242, -0.4242,\n",
              "           -0.4242, -0.4242, -0.4242, -0.4242, -0.4242, -0.4242, -0.4242,\n",
              "           -0.4242, -0.4242, -0.4242, -0.4242, -0.4242, -0.4242, -0.4242,\n",
              "           -0.4242, -0.4242, -0.4242, -0.4242, -0.4242, -0.4242, -0.4242],\n",
              "          [-0.4242, -0.4242, -0.4242, -0.4242, -0.4242, -0.4242, -0.4242,\n",
              "           -0.4242, -0.4242, -0.4242, -0.4242, -0.4242, -0.4242, -0.4242,\n",
              "           -0.4242, -0.4242, -0.4242, -0.4242, -0.4242, -0.4242, -0.4242,\n",
              "           -0.4242, -0.4242, -0.4242, -0.4242, -0.4242, -0.4242, -0.4242],\n",
              "          [-0.4242, -0.4242, -0.4242, -0.4242, -0.4242, -0.4242, -0.4242,\n",
              "           -0.4242, -0.4242, -0.4242, -0.4242, -0.4242, -0.4242, -0.4242,\n",
              "           -0.4242, -0.4242, -0.4242, -0.4242, -0.4242, -0.4242, -0.4242,\n",
              "           -0.4242, -0.4242, -0.4242, -0.4242, -0.4242, -0.4242, -0.4242],\n",
              "          [-0.4242, -0.4242, -0.4242, -0.4242, -0.4242, -0.4242, -0.4242,\n",
              "           -0.4242, -0.4242, -0.4242, -0.4242, -0.4242, -0.4242, -0.4242,\n",
              "           -0.4242, -0.4242, -0.4242, -0.4242, -0.4242, -0.4242, -0.4242,\n",
              "           -0.4242, -0.4242, -0.4242, -0.4242, -0.4242, -0.4242, -0.4242],\n",
              "          [-0.4242, -0.4242, -0.4242, -0.4242, -0.4242, -0.4242, -0.4242,\n",
              "           -0.4242, -0.4242, -0.4242, -0.4242, -0.4242, -0.4242, -0.4242,\n",
              "           -0.4242, -0.4242, -0.4242, -0.4242, -0.4242, -0.4242, -0.4242,\n",
              "           -0.4242, -0.4242, -0.4242, -0.4242, -0.4242, -0.4242, -0.4242],\n",
              "          [-0.4242, -0.4242, -0.4242, -0.4242, -0.4242, -0.4242, -0.4242,\n",
              "           -0.4242, -0.4242, -0.4242, -0.4242, -0.4242, -0.4242, -0.4242,\n",
              "           -0.4242, -0.4242, -0.4242, -0.4242,  1.1541,  2.7960,  2.8215,\n",
              "            0.3777, -0.4242, -0.4242, -0.4242, -0.4242, -0.4242, -0.4242],\n",
              "          [-0.4242, -0.4242, -0.4242, -0.4242, -0.4242, -0.4242, -0.4242,\n",
              "           -0.4242, -0.4242, -0.4242, -0.4242, -0.4242, -0.4242, -0.4242,\n",
              "           -0.4242, -0.4242, -0.4242,  0.7977,  2.6815,  2.7706,  2.7960,\n",
              "            0.3649, -0.4242, -0.4242, -0.4242, -0.4242, -0.4242, -0.4242],\n",
              "          [-0.4242, -0.4242, -0.4242, -0.4242, -0.4242, -0.4242, -0.4242,\n",
              "           -0.4242, -0.4242, -0.4242, -0.4242, -0.4242, -0.4242, -0.4242,\n",
              "           -0.4242, -0.4242, -0.4242,  1.1923,  2.7706,  2.7706,  2.7960,\n",
              "            0.3649, -0.4242, -0.4242, -0.4242, -0.4242, -0.4242, -0.4242],\n",
              "          [-0.4242, -0.4242, -0.4242, -0.4242, -0.4242, -0.4242, -0.4242,\n",
              "           -0.4242, -0.4242, -0.4242, -0.4242, -0.4242, -0.4242, -0.4242,\n",
              "           -0.4242, -0.4242,  0.4413,  2.5797,  2.7706,  2.2614, -0.0296,\n",
              "           -0.3224, -0.4242, -0.4242, -0.4242, -0.4242, -0.4242, -0.4242],\n",
              "          [-0.4242, -0.4242, -0.4242, -0.4242, -0.4242, -0.4242, -0.4242,\n",
              "           -0.4242, -0.4242, -0.4242, -0.4242, -0.4242, -0.4242, -0.4242,\n",
              "           -0.4242,  0.3395,  2.4778,  2.7706,  2.7706,  0.7722, -0.4242,\n",
              "           -0.4242, -0.4242, -0.4242, -0.4242, -0.4242, -0.4242, -0.4242],\n",
              "          [-0.4242, -0.4242, -0.4242, -0.4242, -0.4242, -0.4242, -0.4242,\n",
              "           -0.4242, -0.4242, -0.4242, -0.4242, -0.4242, -0.4242, -0.4242,\n",
              "           -0.4242,  1.5487,  2.7960,  2.7960,  1.9814, -0.4242, -0.4242,\n",
              "           -0.4242, -0.4242, -0.4242, -0.4242, -0.4242, -0.4242, -0.4242],\n",
              "          [-0.4242, -0.4242, -0.4242, -0.4242, -0.4242, -0.4242, -0.4242,\n",
              "           -0.4242, -0.4242, -0.4242, -0.4242, -0.4242, -0.4242, -0.4242,\n",
              "           -0.1696,  2.7960,  2.7706,  2.5669,  0.4159, -0.4242, -0.4242,\n",
              "           -0.4242, -0.4242, -0.4242, -0.4242, -0.4242, -0.4242, -0.4242],\n",
              "          [-0.4242, -0.4242, -0.4242, -0.4242, -0.4242, -0.4242, -0.4242,\n",
              "           -0.4242, -0.4242, -0.4242, -0.4242, -0.4242, -0.4242, -0.0169,\n",
              "            2.1851,  2.7960,  2.7706,  1.1795, -0.4242, -0.4242, -0.4242,\n",
              "           -0.4242, -0.4242, -0.4242, -0.4242, -0.4242, -0.4242, -0.4242],\n",
              "          [-0.4242, -0.4242, -0.4242, -0.4242, -0.4242, -0.4242, -0.4242,\n",
              "           -0.4242, -0.4242, -0.4242, -0.4242, -0.4242, -0.4242,  0.8995,\n",
              "            2.7706,  2.7960,  1.9178, -0.2333, -0.4242, -0.4242, -0.4242,\n",
              "           -0.4242, -0.4242, -0.4242, -0.4242, -0.4242, -0.4242, -0.4242],\n",
              "          [-0.4242, -0.4242, -0.4242, -0.4242, -0.4242, -0.4242, -0.4242,\n",
              "           -0.4242, -0.4242, -0.4242, -0.4242, -0.4242,  0.5940,  2.6306,\n",
              "            2.7706,  2.0323, -0.1315, -0.4242, -0.4242, -0.4242, -0.4242,\n",
              "           -0.4242, -0.4242, -0.4242, -0.4242, -0.4242, -0.4242, -0.4242],\n",
              "          [-0.4242, -0.4242, -0.4242, -0.4242, -0.4242, -0.4242, -0.4242,\n",
              "           -0.4242, -0.4242, -0.4242, -0.4242, -0.0169,  2.7960,  2.7960,\n",
              "            2.7960,  1.5996, -0.4242, -0.4242, -0.4242, -0.4242, -0.4242,\n",
              "           -0.4242, -0.4242, -0.4242, -0.4242, -0.4242, -0.4242, -0.4242],\n",
              "          [-0.4242, -0.4242, -0.4242, -0.4242, -0.4242, -0.4242, -0.4242,\n",
              "           -0.4242, -0.4242, -0.4242, -0.4242,  1.4978,  2.7706,  2.7706,\n",
              "            2.7706,  0.0722, -0.4242, -0.4242, -0.4242, -0.4242, -0.4242,\n",
              "           -0.4242, -0.4242, -0.4242, -0.4242, -0.4242, -0.4242, -0.4242],\n",
              "          [-0.4242, -0.4242, -0.4242, -0.4242, -0.4242, -0.4242, -0.4242,\n",
              "           -0.4242, -0.4242, -0.4242,  0.1867,  2.3887,  2.7706,  2.7706,\n",
              "            1.7650, -0.4242, -0.4242, -0.4242, -0.4242, -0.4242, -0.4242,\n",
              "           -0.4242, -0.4242, -0.4242, -0.4242, -0.4242, -0.4242, -0.4242],\n",
              "          [-0.4242, -0.4242, -0.4242, -0.4242, -0.4242, -0.4242, -0.4242,\n",
              "           -0.4242, -0.4242, -0.4242,  2.5542,  2.7706,  2.7706,  2.0705,\n",
              "           -0.2715, -0.4242, -0.4242, -0.4242, -0.4242, -0.4242, -0.4242,\n",
              "           -0.4242, -0.4242, -0.4242, -0.4242, -0.4242, -0.4242, -0.4242],\n",
              "          [-0.4242, -0.4242, -0.4242, -0.4242, -0.4242, -0.4242, -0.4242,\n",
              "           -0.4242, -0.4242, -0.4242,  2.7960,  2.7706,  2.7706,  0.7086,\n",
              "           -0.4242, -0.4242, -0.4242, -0.4242, -0.4242, -0.4242, -0.4242,\n",
              "           -0.4242, -0.4242, -0.4242, -0.4242, -0.4242, -0.4242, -0.4242],\n",
              "          [-0.4242, -0.4242, -0.4242, -0.4242, -0.4242, -0.4242, -0.4242,\n",
              "           -0.4242, -0.4242,  1.5996,  2.8215,  2.7960,  2.7960, -0.0296,\n",
              "           -0.4242, -0.4242, -0.4242, -0.4242, -0.4242, -0.4242, -0.4242,\n",
              "           -0.4242, -0.4242, -0.4242, -0.4242, -0.4242, -0.4242, -0.4242],\n",
              "          [-0.4242, -0.4242, -0.4242, -0.4242, -0.4242, -0.4242, -0.4242,\n",
              "           -0.4242,  0.1867,  2.4778,  2.7960,  2.7197,  1.3577, -0.3224,\n",
              "           -0.4242, -0.4242, -0.4242, -0.4242, -0.4242, -0.4242, -0.4242,\n",
              "           -0.4242, -0.4242, -0.4242, -0.4242, -0.4242, -0.4242, -0.4242],\n",
              "          [-0.4242, -0.4242, -0.4242, -0.4242, -0.4242, -0.4242, -0.4242,\n",
              "           -0.4242,  0.3904,  2.7706,  2.7960,  2.3760, -0.4242, -0.4242,\n",
              "           -0.4242, -0.4242, -0.4242, -0.4242, -0.4242, -0.4242, -0.4242,\n",
              "           -0.4242, -0.4242, -0.4242, -0.4242, -0.4242, -0.4242, -0.4242],\n",
              "          [-0.4242, -0.4242, -0.4242, -0.4242, -0.4242, -0.4242, -0.4242,\n",
              "           -0.4242,  0.3904,  2.7706,  2.7960,  2.3760, -0.4242, -0.4242,\n",
              "           -0.4242, -0.4242, -0.4242, -0.4242, -0.4242, -0.4242, -0.4242,\n",
              "           -0.4242, -0.4242, -0.4242, -0.4242, -0.4242, -0.4242, -0.4242],\n",
              "          [-0.4242, -0.4242, -0.4242, -0.4242, -0.4242, -0.4242, -0.4242,\n",
              "           -0.4242, -0.1187,  2.0323,  2.7960,  2.3760, -0.4242, -0.4242,\n",
              "           -0.4242, -0.4242, -0.4242, -0.4242, -0.4242, -0.4242, -0.4242,\n",
              "           -0.4242, -0.4242, -0.4242, -0.4242, -0.4242, -0.4242, -0.4242],\n",
              "          [-0.4242, -0.4242, -0.4242, -0.4242, -0.4242, -0.4242, -0.4242,\n",
              "           -0.4242, -0.4242, -0.4242, -0.4242, -0.4242, -0.4242, -0.4242,\n",
              "           -0.4242, -0.4242, -0.4242, -0.4242, -0.4242, -0.4242, -0.4242,\n",
              "           -0.4242, -0.4242, -0.4242, -0.4242, -0.4242, -0.4242, -0.4242],\n",
              "          [-0.4242, -0.4242, -0.4242, -0.4242, -0.4242, -0.4242, -0.4242,\n",
              "           -0.4242, -0.4242, -0.4242, -0.4242, -0.4242, -0.4242, -0.4242,\n",
              "           -0.4242, -0.4242, -0.4242, -0.4242, -0.4242, -0.4242, -0.4242,\n",
              "           -0.4242, -0.4242, -0.4242, -0.4242, -0.4242, -0.4242, -0.4242],\n",
              "          [-0.4242, -0.4242, -0.4242, -0.4242, -0.4242, -0.4242, -0.4242,\n",
              "           -0.4242, -0.4242, -0.4242, -0.4242, -0.4242, -0.4242, -0.4242,\n",
              "           -0.4242, -0.4242, -0.4242, -0.4242, -0.4242, -0.4242, -0.4242,\n",
              "           -0.4242, -0.4242, -0.4242, -0.4242, -0.4242, -0.4242, -0.4242]]]),\n",
              " 1)"
            ]
          },
          "metadata": {
            "tags": []
          },
          "execution_count": 5
        }
      ]
    },
    {
      "cell_type": "code",
      "metadata": {
        "id": "76yaHDYbhCbk",
        "colab_type": "code",
        "colab": {
          "base_uri": "https://localhost:8080/",
          "height": 283
        },
        "outputId": "687ffe9d-033c-480c-d7e1-8f2a0a9bb61e"
      },
      "source": [
        "i = 10543 # get the third example (change 'i')\n",
        "plt.imshow(train_dataset[i][0].squeeze()) # get the first part of the third example\n",
        "\n",
        "label = train_dataset[i][1]\n",
        "\n",
        "print(f'The label for the image is {label}')"
      ],
      "execution_count": null,
      "outputs": [
        {
          "output_type": "stream",
          "text": [
            "The label for the image is 5\n"
          ],
          "name": "stdout"
        },
        {
          "output_type": "display_data",
          "data": {
            "image/png": "[encoded data removed]",
            "text/plain": [
              "<Figure size 432x288 with 1 Axes>"
            ]
          },
          "metadata": {
            "tags": [],
            "needs_background": "light"
          }
        }
      ]
    },
    {
      "cell_type": "markdown",
      "metadata": {
        "id": "D4TtljoUiBYf",
        "colab_type": "text"
      },
      "source": [
        "To fetch batches of data for training and testing, we use PyTorch's DataLoader object. We can specifically set a batch size, and designate other parameters for loading such as dataset shuffling."
      ]
    },
    {
      "cell_type": "code",
      "metadata": {
        "id": "S_FrfjQPgl3s",
        "colab_type": "code",
        "colab": {}
      },
      "source": [
        "BATCH_SIZE = 128 # you can play around with this\n",
        "train_loader = torch.utils.data.DataLoader(train_dataset,\n",
        "                                           batch_size=BATCH_SIZE, \n",
        "                                           shuffle=True,\n",
        "                                           num_workers=8)\n",
        "\n",
        "test_loader = torch.utils.data.DataLoader(test_dataset,\n",
        "                                          batch_size=BATCH_SIZE, \n",
        "                                          shuffle=False,\n",
        "                                          num_workers=8)"
      ],
      "execution_count": null,
      "outputs": []
    },
    {
      "cell_type": "markdown",
      "metadata": {
        "id": "wpHpEDuGg527",
        "colab_type": "text"
      },
      "source": [
        "The DataLoader grabs batches of a specified size, with both the inputs and the labels returned as a tuple."
      ]
    },
    {
      "cell_type": "code",
      "metadata": {
        "id": "X2BTFylgg3wV",
        "colab_type": "code",
        "colab": {}
      },
      "source": [
        "# grab a batch from the train loader\n",
        "images, classes = next(iter(train_loader)) # one mini-batch of images and their class labels"
      ],
      "execution_count": null,
      "outputs": []
    },
    {
      "cell_type": "code",
      "metadata": {
        "id": "hkbDpGSJiuul",
        "colab_type": "code",
        "colab": {}
      },
      "source": [
        ""
      ],
      "execution_count": null,
      "outputs": []
    },
    {
      "cell_type": "markdown",
      "metadata": {
        "id": "WN-HAf9Fhp33",
        "colab_type": "text"
      },
      "source": [
        "In addition to reading the docs, it's usually helpful just to look at the sizes of the different batches and make sure they're compatible with the network layers you're using:"
      ]
    },
    {
      "cell_type": "code",
      "metadata": {
        "id": "GXsds0oJg5PD",
        "colab_type": "code",
        "colab": {
          "base_uri": "https://localhost:8080/",
          "height": 35
        },
        "outputId": "a39b6e59-141c-42f5-9187-adfcc66df170"
      },
      "source": [
        "images.shape, classes.shape"
      ],
      "execution_count": null,
      "outputs": [
        {
          "output_type": "execute_result",
          "data": {
            "text/plain": [
              "(torch.Size([128, 1, 28, 28]), torch.Size([128]))"
            ]
          },
          "metadata": {
            "tags": []
          },
          "execution_count": 9
        }
      ]
    },
    {
      "cell_type": "markdown",
      "metadata": {
        "id": "BK8zKMpVi14j",
        "colab_type": "text"
      },
      "source": [
        " We can look at a few examples from the training set of MNIST, where each digit is a 28 x 28 simple digit image:"
      ]
    },
    {
      "cell_type": "markdown",
      "metadata": {
        "id": "tkIKquIhhWBX",
        "colab_type": "text"
      },
      "source": [
        "Above, we see that the train_loader object (PyTorch DataLoader) is an iterator that fetches a batch (size 128) of images, each 1 x 28 x 28 (1 channel corresponding to grayscale), along with a Tensor of labels (classes). Let's take a look at some of the images and labels:"
      ]
    },
    {
      "cell_type": "code",
      "metadata": {
        "id": "_dYtXCFTiuyl",
        "colab_type": "code",
        "colab": {
          "base_uri": "https://localhost:8080/",
          "height": 283
        },
        "outputId": "ce6582e4-1a4d-41d5-b735-0147d21067db"
      },
      "source": [
        "example = 120\n",
        "plt.imshow(np.squeeze(images)[example]) # plot the image\n",
        "print('Label:', classes[example]) # display the digit label"
      ],
      "execution_count": null,
      "outputs": [
        {
          "output_type": "stream",
          "text": [
            "Label: tensor(8)\n"
          ],
          "name": "stdout"
        },
        {
          "output_type": "display_data",
          "data": {
            "image/png": "[encoded data removed]",
            "text/plain": [
              "<Figure size 432x288 with 1 Axes>"
            ]
          },
          "metadata": {
            "tags": [],
            "needs_background": "light"
          }
        }
      ]
    },
    {
      "cell_type": "markdown",
      "metadata": {
        "id": "StK2RfxMleta",
        "colab_type": "text"
      },
      "source": [
        "### 2) Define your neural network architecture\n",
        "\n",
        "With our dataset ready, we can define a simple neural network with two-hidden layers of 200 and 100 neurons. Importantly, each nn.Module object defines a forward pass, which can be flexibly used with standard Python control structures for training. Note that the network initializes with our designated layers"
      ]
    },
    {
      "cell_type": "code",
      "metadata": {
        "id": "DXNKY_P2leH5",
        "colab_type": "code",
        "colab": {}
      },
      "source": [
        "#creates class called Net(base network for neural network models)\n",
        "class Net(nn.Module):\n",
        "    def __init__(self):\n",
        "        super(Net, self).__init__()\n",
        "        \"\"\"\n",
        "        Create the individual layers inside the init function\n",
        "        \"\"\"\n",
        "        self.fc1 = nn.Linear(28*28, 200) # MNIST images are 28 x 28\n",
        "        self.fc2 = nn.Linear(200, 100) # from 200-node layer to 100 node layer\n",
        "        self.fc3 = nn.Linear(100, 10) # from 100-node layer to output layer\n",
        "\n",
        "    def forward(self, x):\n",
        "        \"\"\"\n",
        "        We stitch together all of the layers in the forward call to define\n",
        "        the computational graph.\n",
        "        \"\"\"\n",
        "        x = F.relu(self.fc1(x))  # Pass the input through fc1 and apply relu nonlinearity\n",
        "        x = F.relu(self.fc2(x))  # Pass the output from the 1st layer into the 2nd layer and apply relu\n",
        "        x = self.fc3(x) # Pass from the second layer to the output layer\n",
        "        return F.log_softmax(x, dim=1) # returns the log-softmax the final layer"
      ],
      "execution_count": null,
      "outputs": []
    },
    {
      "cell_type": "code",
      "metadata": {
        "id": "PraGkQwZkkb6",
        "colab_type": "code",
        "colab": {}
      },
      "source": [
        "# Instantiate your model\n",
        "model = Net()\n",
        "\n",
        "# If using a gpu, you can instead uncomment the following:\n",
        "#model.cuda() # the .cuda() call puts the model onto the GPU for training"
      ],
      "execution_count": null,
      "outputs": []
    },
    {
      "cell_type": "code",
      "metadata": {
        "id": "XFqL7geojwsq",
        "colab_type": "code",
        "colab": {}
      },
      "source": [
        "losses = []"
      ],
      "execution_count": null,
      "outputs": []
    },
    {
      "cell_type": "code",
      "metadata": {
        "id": "5JwWSYy6lh1-",
        "colab_type": "code",
        "colab": {}
      },
      "source": [
        "def train(model, \n",
        "          device, \n",
        "          train_loader, \n",
        "          optimizer,\n",
        "          criterion,\n",
        "          epoch,\n",
        "          log_interval=128):\n",
        "    model.train() # sets the parameters to be trainable\n",
        "    correct = 0\n",
        "    for batch_idx, (data, target) in enumerate(train_loader):\n",
        "        data = data.view(-1, 28 * 28) # flatten into 1D array for dense nn\n",
        "        data, target = data.to(device), target.to(device)\n",
        "        optimizer.zero_grad()\n",
        "        output = model(data)\n",
        "        loss = criterion(output, target)\n",
        "        loss.backward()\n",
        "        optimizer.step()\n",
        "        \n",
        "        pred = output.argmax(dim=1, keepdim=True) # get the index of the max log-probability\n",
        "        correct += pred.eq(target.view_as(pred)).sum().item() # tally the number of correct\n",
        "        \n",
        "        if batch_idx % log_interval == 0:\n",
        "            print('Train Epoch: {} [{}/{} ({:.0f}%)]\\tLoss: {:.6f}'.format(\n",
        "                epoch, batch_idx * len(data), len(train_loader.dataset),\n",
        "                100. * batch_idx / len(train_loader), loss.item()))\n",
        "            \n",
        "    print('Train Epoch: {}, Train Accuracy: {}, Loss: {:.6f}'.format(\n",
        "        epoch, correct/len(train_dataset), loss.item()))\n",
        "    \n",
        "def test(model, \n",
        "         device,\n",
        "         criterion,\n",
        "         test_loader):\n",
        "    model.eval()\n",
        "    test_loss = 0\n",
        "    correct = 0\n",
        "    predictions = []\n",
        "    targets = []\n",
        "    with torch.no_grad():\n",
        "        for data, target in test_loader:\n",
        "            data = data.view(-1, 28 * 28) # flatten into 1D array for dense nn\n",
        "            data, target = data.to(device), target.to(device)\n",
        "            output = model(data)\n",
        "            test_loss += criterion(output, target, reduction='sum').item() # sum the batch loss\n",
        "            pred = output.argmax(dim=1, keepdim=True) # get the index of the max log-probability\n",
        "            predictions.append(pred)\n",
        "            correct += pred.eq(target.view_as(pred)).sum().item() # tally the number of correct\n",
        "            targets.append(target)\n",
        "\n",
        "    test_loss /= len(test_loader.dataset)\n",
        "\n",
        "    print('\\nTest set: Average loss: {:.4f}, Accuracy: {}/{} ({:.0f}%)\\n'.format(\n",
        "        test_loss, correct, len(test_loader.dataset),\n",
        "        100. * correct / len(test_loader.dataset)))\n",
        "\n",
        "    return torch.cat(targets), torch.cat(predictions)"
      ],
      "execution_count": null,
      "outputs": []
    },
    {
      "cell_type": "markdown",
      "metadata": {
        "id": "3MW3fpGDlwmU",
        "colab_type": "text"
      },
      "source": [
        "### 3) Choose your criterion and optimizer.\n",
        "\n",
        "In this case, we'll use the Adam optimizer with a preset learning rate of 0.01. Try out SGD with and without momentum, and see the effect on the speed of your training.\n",
        "\n",
        "Our training criterion in this case will be `nll_loss`, which is the negative log likelihood loss. "
      ]
    },
    {
      "cell_type": "code",
      "metadata": {
        "id": "wSG4FOYbluyE",
        "colab_type": "code",
        "colab": {}
      },
      "source": [
        "optimizer = optim.Adam(model.parameters(), \n",
        "                      lr=0.001) # play with the learning rate\n",
        "criterion = F.nll_loss"
      ],
      "execution_count": null,
      "outputs": []
    },
    {
      "cell_type": "markdown",
      "metadata": {
        "id": "U7elxUo9l0b5",
        "colab_type": "text"
      },
      "source": [
        "Each epoch iterates over the entire dataset one time, with each epoch split based on the size of the minibatches. Again, the gradients are accumulated from each backwards pass from each minibatch, and the optimizer updates the weights after each backwards pass.\n",
        "\n",
        "In this example, we'll start with 10 epochs, but try using fewer or more, adjusting the learning rate (above), and using other optimizers. What happens if you use deep neural networks, or change the nonlinearities (logistic or tanh instead of relu)?"
      ]
    },
    {
      "cell_type": "code",
      "metadata": {
        "id": "nMjFdDK7lyUW",
        "colab_type": "code",
        "colab": {}
      },
      "source": [
        "epochs = 10 # play with the number of epochs"
      ],
      "execution_count": null,
      "outputs": []
    },
    {
      "cell_type": "code",
      "metadata": {
        "id": "0m43D0erl0TN",
        "colab_type": "code",
        "colab": {
          "base_uri": "https://localhost:8080/",
          "height": 884
        },
        "outputId": "5e30460f-bd67-4cdd-8b3d-6f54ffe92e0e"
      },
      "source": [
        "for epoch in range(epochs):\n",
        "    train(model,\n",
        "      device,\n",
        "      train_loader, \n",
        "      optimizer,\n",
        "      criterion,\n",
        "      epoch)"
      ],
      "execution_count": null,
      "outputs": [
        {
          "output_type": "stream",
          "text": [
            "Train Epoch: 0 [0/60000 (0%)]\tLoss: 2.325321\n",
            "Train Epoch: 0 [16384/60000 (27%)]\tLoss: 0.234866\n",
            "Train Epoch: 0 [32768/60000 (55%)]\tLoss: 0.359298\n",
            "Train Epoch: 0 [49152/60000 (82%)]\tLoss: 0.136927\n",
            "Train Epoch: 0, Train Accuracy: 0.9168833333333334, Loss: 0.194669\n",
            "Train Epoch: 1 [0/60000 (0%)]\tLoss: 0.081364\n",
            "Train Epoch: 1 [16384/60000 (27%)]\tLoss: 0.109887\n",
            "Train Epoch: 1 [32768/60000 (55%)]\tLoss: 0.183257\n",
            "Train Epoch: 1 [49152/60000 (82%)]\tLoss: 0.051912\n",
            "Train Epoch: 1, Train Accuracy: 0.9657166666666667, Loss: 0.121332\n",
            "Train Epoch: 2 [0/60000 (0%)]\tLoss: 0.059758\n",
            "Train Epoch: 2 [16384/60000 (27%)]\tLoss: 0.045853\n",
            "Train Epoch: 2 [32768/60000 (55%)]\tLoss: 0.067584\n",
            "Train Epoch: 2 [49152/60000 (82%)]\tLoss: 0.069756\n",
            "Train Epoch: 2, Train Accuracy: 0.9764, Loss: 0.021502\n",
            "Train Epoch: 3 [0/60000 (0%)]\tLoss: 0.054462\n",
            "Train Epoch: 3 [16384/60000 (27%)]\tLoss: 0.075104\n",
            "Train Epoch: 3 [32768/60000 (55%)]\tLoss: 0.036938\n",
            "Train Epoch: 3 [49152/60000 (82%)]\tLoss: 0.077354\n",
            "Train Epoch: 3, Train Accuracy: 0.9828333333333333, Loss: 0.070030\n",
            "Train Epoch: 4 [0/60000 (0%)]\tLoss: 0.043155\n",
            "Train Epoch: 4 [16384/60000 (27%)]\tLoss: 0.027951\n",
            "Train Epoch: 4 [32768/60000 (55%)]\tLoss: 0.017754\n",
            "Train Epoch: 4 [49152/60000 (82%)]\tLoss: 0.012431\n",
            "Train Epoch: 4, Train Accuracy: 0.98545, Loss: 0.015304\n",
            "Train Epoch: 5 [0/60000 (0%)]\tLoss: 0.012396\n",
            "Train Epoch: 5 [16384/60000 (27%)]\tLoss: 0.009173\n",
            "Train Epoch: 5 [32768/60000 (55%)]\tLoss: 0.029334\n",
            "Train Epoch: 5 [49152/60000 (82%)]\tLoss: 0.008661\n",
            "Train Epoch: 5, Train Accuracy: 0.9892, Loss: 0.028420\n",
            "Train Epoch: 6 [0/60000 (0%)]\tLoss: 0.016089\n",
            "Train Epoch: 6 [16384/60000 (27%)]\tLoss: 0.025677\n",
            "Train Epoch: 6 [32768/60000 (55%)]\tLoss: 0.050125\n",
            "Train Epoch: 6 [49152/60000 (82%)]\tLoss: 0.015035\n",
            "Train Epoch: 6, Train Accuracy: 0.9902333333333333, Loss: 0.059110\n",
            "Train Epoch: 7 [0/60000 (0%)]\tLoss: 0.035302\n",
            "Train Epoch: 7 [16384/60000 (27%)]\tLoss: 0.008066\n",
            "Train Epoch: 7 [32768/60000 (55%)]\tLoss: 0.017117\n",
            "Train Epoch: 7 [49152/60000 (82%)]\tLoss: 0.019260\n",
            "Train Epoch: 7, Train Accuracy: 0.9923333333333333, Loss: 0.028976\n",
            "Train Epoch: 8 [0/60000 (0%)]\tLoss: 0.006214\n",
            "Train Epoch: 8 [16384/60000 (27%)]\tLoss: 0.009518\n",
            "Train Epoch: 8 [32768/60000 (55%)]\tLoss: 0.004328\n",
            "Train Epoch: 8 [49152/60000 (82%)]\tLoss: 0.065012\n",
            "Train Epoch: 8, Train Accuracy: 0.9919833333333333, Loss: 0.013509\n",
            "Train Epoch: 9 [0/60000 (0%)]\tLoss: 0.002789\n",
            "Train Epoch: 9 [16384/60000 (27%)]\tLoss: 0.002082\n",
            "Train Epoch: 9 [32768/60000 (55%)]\tLoss: 0.010402\n",
            "Train Epoch: 9 [49152/60000 (82%)]\tLoss: 0.022692\n",
            "Train Epoch: 9, Train Accuracy: 0.9941833333333333, Loss: 0.060239\n"
          ],
          "name": "stdout"
        }
      ]
    },
    {
      "cell_type": "code",
      "metadata": {
        "id": "6CY_nhOfMLAw",
        "colab_type": "code",
        "colab": {}
      },
      "source": [
        ""
      ],
      "execution_count": null,
      "outputs": []
    },
    {
      "cell_type": "markdown",
      "metadata": {
        "id": "Ne42IbsvuI8q",
        "colab_type": "text"
      },
      "source": [
        "The loss from training converges quickly over ten epochs in this case. We can now check to see how these perform using our written test function:"
      ]
    },
    {
      "cell_type": "code",
      "metadata": {
        "id": "ZJaHJy0KuJY6",
        "colab_type": "code",
        "colab": {
          "base_uri": "https://localhost:8080/",
          "height": 69
        },
        "outputId": "9c016386-ab43-459e-d4bb-0945236d2390"
      },
      "source": [
        "targets, predictions = test(model, device, criterion, test_loader)"
      ],
      "execution_count": null,
      "outputs": [
        {
          "output_type": "stream",
          "text": [
            "\n",
            "Test set: Average loss: 0.0739, Accuracy: 9815/10000 (98%)\n",
            "\n"
          ],
          "name": "stdout"
        }
      ]
    },
    {
      "cell_type": "markdown",
      "metadata": {
        "id": "HMgUDBTNuNRG",
        "colab_type": "text"
      },
      "source": [
        "The model achives 97 percent accuracy on the test set!\n",
        "\n",
        "### Question: \n",
        "\n",
        " How does this accuracy change with less or more training? Play around with different models, architectures, and more to see whether you can improve the performance."
      ]
    },
    {
      "cell_type": "code",
      "metadata": {
        "id": "YaNJhVCHuRN-",
        "colab_type": "code",
        "colab": {}
      },
      "source": [
        ""
      ],
      "execution_count": null,
      "outputs": []
    },
    {
      "cell_type": "markdown",
      "metadata": {
        "id": "PBEoi0o3uSTU",
        "colab_type": "text"
      },
      "source": [
        "As a self-check, try to pull the examples from the test set that are correctly and incorrectly classified and plot them. Do they make sense?"
      ]
    },
    {
      "cell_type": "code",
      "metadata": {
        "id": "FDgS4DNQmq5w",
        "colab_type": "code",
        "colab": {}
      },
      "source": [
        "incorrects = np.where(np.array(predictions).T != np.array(targets))[1] # grab the incorrects"
      ],
      "execution_count": null,
      "outputs": []
    },
    {
      "cell_type": "code",
      "metadata": {
        "id": "0LyYlFS4mtuD",
        "colab_type": "code",
        "colab": {
          "base_uri": "https://localhost:8080/",
          "height": 300
        },
        "outputId": "b915cfff-f429-4851-a7c8-ca5447e64c1f"
      },
      "source": [
        "i = 34 # play with this number and talk about it\n",
        "\n",
        "incorrect_example = incorrects[i]\n",
        "incorrect_example\n",
        "print(f'True label is {targets[incorrect_example]}, the predicted label is {predictions[incorrect_example]}')\n",
        "plt.imshow(test_dataset[incorrect_example][0].squeeze())"
      ],
      "execution_count": null,
      "outputs": [
        {
          "output_type": "stream",
          "text": [
            "True label is 7, the predicted label is tensor([9])\n"
          ],
          "name": "stdout"
        },
        {
          "output_type": "execute_result",
          "data": {
            "text/plain": [
              "<matplotlib.image.AxesImage at 0x7f2242416710>"
            ]
          },
          "metadata": {
            "tags": []
          },
          "execution_count": 24
        },
        {
          "output_type": "display_data",
          "data": {
            "image/png": "[encoded data removed]",
            "text/plain": [
              "<Figure size 432x288 with 1 Axes>"
            ]
          },
          "metadata": {
            "tags": [],
            "needs_background": "light"
          }
        }
      ]
    },
    {
      "cell_type": "markdown",
      "metadata": {
        "id": "Ux3s5RcOLZzD",
        "colab_type": "text"
      },
      "source": [
        "### Evaluation metrics: Confusion matrix\n",
        "\n",
        "\n",
        "\n"
      ]
    },
    {
      "cell_type": "code",
      "metadata": {
        "id": "DgaEVYU4uSrw",
        "colab_type": "code",
        "colab": {}
      },
      "source": [
        "from sklearn.metrics import confusion_matrix"
      ],
      "execution_count": null,
      "outputs": []
    },
    {
      "cell_type": "code",
      "metadata": {
        "id": "cleY8es2mhFo",
        "colab_type": "code",
        "colab": {
          "base_uri": "https://localhost:8080/",
          "height": 191
        },
        "outputId": "99ed8671-3df1-4537-a354-db63c1ef0726"
      },
      "source": [
        "confusion_matrix(targets, predictions)"
      ],
      "execution_count": null,
      "outputs": [
        {
          "output_type": "execute_result",
          "data": {
            "text/plain": [
              "array([[ 971,    0,    1,    0,    0,    2,    2,    1,    3,    0],\n",
              "       [   0, 1134,    0,    1,    0,    0,    0,    0,    0,    0],\n",
              "       [   0,    2, 1015,    3,    2,    0,    1,    3,    5,    1],\n",
              "       [   0,    0,    2,  990,    0,   11,    0,    3,    3,    1],\n",
              "       [   1,    0,    3,    1,  967,    2,    2,    1,    0,    5],\n",
              "       [   2,    0,    0,    1,    1,  884,    2,    0,    1,    1],\n",
              "       [   5,    3,    1,    1,    4,    3,  941,    0,    0,    0],\n",
              "       [   1,    2,    5,    3,    2,    1,    0, 1006,    1,    7],\n",
              "       [   5,    1,    4,   10,    4,    9,    0,    3,  936,    2],\n",
              "       [   3,    2,    1,    5,   10,   13,    0,    3,    1,  971]])"
            ]
          },
          "metadata": {
            "tags": []
          },
          "execution_count": 26
        }
      ]
    },
    {
      "cell_type": "markdown",
      "metadata": {
        "id": "6eNu0FWJM0LW",
        "colab_type": "text"
      },
      "source": [
        "### After self-checking and performing evaluation meterics: \n",
        "\n",
        "What numbers are the network having a hard time classfying? \n",
        "\n",
        "What number does the network classify the best? "
      ]
    },
    {
      "cell_type": "code",
      "metadata": {
        "id": "lPdfNCERnoty",
        "colab_type": "code",
        "colab": {}
      },
      "source": [
        ""
      ],
      "execution_count": null,
      "outputs": []
    },
    {
      "cell_type": "code",
      "metadata": {
        "id": "RwNdeR9LoNcp",
        "colab_type": "code",
        "colab": {}
      },
      "source": [
        ""
      ],
      "execution_count": null,
      "outputs": []
    },
    {
      "cell_type": "code",
      "metadata": {
        "id": "JZ1rsFmOoc3U",
        "colab_type": "code",
        "colab": {}
      },
      "source": [
        ""
      ],
      "execution_count": null,
      "outputs": []
    }
  ]
}