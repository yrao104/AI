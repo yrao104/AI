{
  "nbformat": 4,
  "nbformat_minor": 0,
  "metadata": {
    "colab": {
      "name": "Practice Problems - Lesson 7_ Regression.ipynb",
      "provenance": [],
      "collapsed_sections": []
    },
    "kernelspec": {
      "name": "python3",
      "display_name": "Python 3"
    }
  },
  "cells": [
    {
      "cell_type": "markdown",
      "metadata": {
        "id": "d2JHAe3Dk6Vt",
        "colab_type": "text"
      },
      "source": [
        ""
      ]
    },
    {
      "cell_type": "markdown",
      "metadata": {
        "id": "wLTp_tYi8O2t",
        "colab_type": "text"
      },
      "source": [
        "# Practice Problems\n",
        "## Lesson 7: Regression\n",
        "---\n",
        "Created by Terron Ishihara"
      ]
    },
    {
      "cell_type": "markdown",
      "metadata": {
        "id": "p_QA59cN8UT8",
        "colab_type": "text"
      },
      "source": [
        "### Problem 1\n",
        "\n",
        "You decide to use linear regression to predict the battery life of the phone. The features you pick are $x_1$ = phone weight and $x_2$ = screen size.  The linear regression model with two features and two weights is given by:\n",
        "\n",
        "> $\\hat{y} = w_1x_1 + w_2x_2$\n",
        "\n",
        "| Weight (ounces) | Screen Size (squared inches) | Battery Life (hours) |\n",
        "|-|-|-|\n",
        "| 6 | 4 | 12 |\n",
        "| 13 | 16 | 24 |\n",
        "| 5 | 15 | 20 |\n",
        "| 9 | 48 | 21 |\n",
        "| 7 | 13 | 16 |\n"
      ]
    },
    {
      "cell_type": "markdown",
      "metadata": {
        "id": "7GlxhnZ42e2R",
        "colab_type": "text"
      },
      "source": [
        "> a. You initially guess $w_1=3$ and $w_2=4$. What is the predicted battery life for a phone of weight 10 ounces and screen size 18 squared inches?"
      ]
    },
    {
      "cell_type": "code",
      "metadata": {
        "id": "t3iTQtSDUOEE",
        "colab_type": "code",
        "colab": {}
      },
      "source": [
        "w1 = 3\n",
        "w2 = 4\n",
        "y = [22]\n",
        "x1 = [10]\n",
        "x2 = [18]"
      ],
      "execution_count": null,
      "outputs": []
    },
    {
      "cell_type": "code",
      "metadata": {
        "id": "a78--m0IUTIv",
        "colab_type": "code",
        "colab": {
          "base_uri": "https://localhost:8080/",
          "height": 35
        },
        "outputId": "c0c1bb1e-2c3d-419f-9fdc-71dc7531f9e9"
      },
      "source": [
        "def model(x1, x2, w1, w2):\n",
        "  y_hat = w1*x1 + w2*x2\n",
        "  return y_hat\n",
        "\n",
        "#test\n",
        "print(model(10, 18, w1, w2))"
      ],
      "execution_count": null,
      "outputs": [
        {
          "output_type": "stream",
          "text": [
            "102\n"
          ],
          "name": "stdout"
        }
      ]
    },
    {
      "cell_type": "markdown",
      "metadata": {
        "id": "ieCUSS6oRfCj",
        "colab_type": "text"
      },
      "source": [
        "102"
      ]
    },
    {
      "cell_type": "markdown",
      "metadata": {
        "id": "kuhTpatE3NwI",
        "colab_type": "text"
      },
      "source": [
        "> b. Recall the formula for Mean Squared Error (MSE) for this model is:\n",
        "\n",
        "> > $\\frac{1}{N}\\sum_{i=1}^N (w_1x_1+w_2x_2-y)^2$\n",
        "\n",
        "> What is the MSE for the model with $w_1=3$ and $w_2=4$?"
      ]
    },
    {
      "cell_type": "code",
      "metadata": {
        "id": "_iik0Fc_VWNv",
        "colab_type": "code",
        "colab": {}
      },
      "source": [
        "def mean_squared_error(y, x1, w1, w2):\n",
        "  assert len(y) == len(x1) == len(x2)\n",
        "  n = len(y)\n",
        "  error = 0\n",
        "  for i in range(n):\n",
        "    error += "
      ],
      "execution_count": null,
      "outputs": []
    },
    {
      "cell_type": "markdown",
      "metadata": {
        "id": "QQVXhwB8Ribf",
        "colab_type": "text"
      },
      "source": [
        "10440.6"
      ]
    },
    {
      "cell_type": "code",
      "metadata": {
        "id": "Z4K5ktadp97e",
        "colab_type": "code",
        "colab": {}
      },
      "source": [
        "# Remember that you can use some code to perform these calculations if you like.\n",
        "# Google Colab also has a scratch code cell in the Insert menu."
      ],
      "execution_count": null,
      "outputs": []
    },
    {
      "cell_type": "markdown",
      "metadata": {
        "id": "GtGpYBam3srZ",
        "colab_type": "text"
      },
      "source": [
        "> c. The update functions for the weights are:\n",
        "\n",
        ">> $w_1 = w_1 - \\alpha * (y-w_1x_1+w_2x_2)* x_1$\n",
        "\n",
        ">> $w_2 = w_2 - \\alpha * (y-w_1x_1+w_2x_2)* x_2$\n",
        "\n",
        "> Using the first data point as your example $([x_1,x_2], y)$ and setting $\\alpha=0.1$, what are the new weights after one round of updates?"
      ]
    },
    {
      "cell_type": "markdown",
      "metadata": {
        "id": "FqGPT8Z-4RDc",
        "colab_type": "text"
      },
      "source": [
        "> d. What is the new MSE after one round of updates? Did the MSE increase or decrease after updating?"
      ]
    },
    {
      "cell_type": "markdown",
      "metadata": {
        "id": "scl1uXhWKNnu",
        "colab_type": "text"
      },
      "source": [
        "### Problem 2\n",
        "\n",
        "Let's explore regression using scikit-learn. We'll use a [dataset on diabetes](https://scikit-learn.org/stable/modules/generated/sklearn.datasets.load_diabetes.html), with 442 samples and 10 different features. We will focus on using a single feature, body mass index. The target values are a quantitative measure of diabetes progression one year after baseline.\n",
        "\n",
        "> To start, we import the models, the dataset, and some extra tools."
      ]
    },
    {
      "cell_type": "code",
      "metadata": {
        "id": "o_g_iWxKLWgK",
        "colab_type": "code",
        "colab": {}
      },
      "source": [
        "import numpy as np\n",
        "from sklearn.linear_model import LinearRegression, LogisticRegression\n",
        "from sklearn.model_selection import train_test_split\n",
        "from sklearn.datasets import load_diabetes\n",
        "\n",
        "diabetes = load_diabetes()\n",
        "# Get the data samples and extract the feature at index 2,\n",
        "# which is body mass index\n",
        "X = diabetes.data[:, np.newaxis, 2]\n",
        "y = diabetes.target"
      ],
      "execution_count": null,
      "outputs": []
    },
    {
      "cell_type": "markdown",
      "metadata": {
        "id": "kLTHmM3qu0tz",
        "colab_type": "text"
      },
      "source": [
        "> Now we can split our dataset into training and test sets. The `train_test_split()` method can do this for us. Here we use an 80/20 split. Then we create the regression classifiers, train them on the training set, and evaluate the models on the test set, printing out the mean squared error. "
      ]
    },
    {
      "cell_type": "code",
      "metadata": {
        "id": "QQuzrYj_urRP",
        "colab_type": "code",
        "colab": {}
      },
      "source": [
        "# Partition the dataset into train and test\n",
        "X_train, X_test, y_train, y_test = train_test_split(X, y, train_size=0.8)\n",
        "\n",
        "# Instantiate the classifiers\n",
        "lin_clf = LinearRegression()\n",
        "# The parameters here are the default values for LogisticRegression,\n",
        "# included here just to suppress a couple warnings\n",
        "log_clf = LogisticRegression(solver='lbfgs', multi_class='multinomial')\n",
        "\n",
        "# Train the classifiers\n",
        "lin_clf.fit(X_train, y_train)\n",
        "log_clf.fit(X_train, y_train)\n",
        "\n",
        "# Calculate predictions on test set\n",
        "lin_predictions = lin_clf.predict(X_test)\n",
        "log_predictions = log_clf.predict(X_test)"
      ],
      "execution_count": null,
      "outputs": []
    },
    {
      "cell_type": "markdown",
      "metadata": {
        "id": "EL_K9_t1vMOc",
        "colab_type": "text"
      },
      "source": [
        "> To get a better idea of what these models look like, let's plot the models' predictions on top of the test set."
      ]
    },
    {
      "cell_type": "code",
      "metadata": {
        "id": "dKnm1BIyYljY",
        "colab_type": "code",
        "colab": {
          "base_uri": "https://localhost:8080/",
          "height": 279
        },
        "outputId": "826f2b16-0d9a-4489-afcc-09ce6d7d94f1"
      },
      "source": [
        "import matplotlib.pyplot as plt\n",
        "\n",
        "# Plot the dataset points\n",
        "plt.scatter(X_test, y_test, color='black')\n",
        "\n",
        "# Plot the linear regression predictions\n",
        "# 'cs' means cyan is the color, square is the shape\n",
        "plt.plot(X_test, lin_predictions, 'cs')\n",
        "\n",
        "# Plot the logistic regression predictions\n",
        "# 'm^' means magenta is the color, triangle is the shape\n",
        "plt.plot(X_test, log_predictions, 'm^')\n",
        "\n",
        "# Label axes and legend\n",
        "plt.xlabel(\"Body Mass Index\")\n",
        "plt.ylabel(\"Disease progression after one year\")\n",
        "plt.legend(('Linear', 'Logistic'),\n",
        "           loc=\"lower right\", fontsize='small')\n",
        "# Show the plot\n",
        "plt.show()"
      ],
      "execution_count": null,
      "outputs": [
        {
          "output_type": "display_data",
          "data": {
            "image/png": "[encoded data removed]",
            "text/plain": [
              "<Figure size 432x288 with 1 Axes>"
            ]
          },
          "metadata": {
            "tags": [],
            "needs_background": "light"
          }
        }
      ]
    },
    {
      "cell_type": "markdown",
      "metadata": {
        "id": "ySL0pqapwAfp",
        "colab_type": "text"
      },
      "source": [
        "> Recall the formula for the error function of our linear regression model, as an example: $w_1x+w_0-y$. We take the input, $x$, place it into our linear model, $w_1x+w_0$, and subtract the true value, $y$. A useful measure of how closely our model predicts all the test samples is Mean Squared Error (MSE). We simply square all of our error values, sum those squares, then divide by $N$ to calculate the mean squared error:\n",
        "\n",
        ">> $\\frac{1}{N}\\sum_{i=1}^N (w_1x+w_0-y)^2$\n",
        "\n",
        "> The logistic regression model has the same calculation for MSE, but with the sigmoid function as the model: $\\frac{1}{1+e^{-(w_1x+w_0)}}$.\n",
        "\n",
        "> Given the above plot, which regression classifier do you think has a larger mean squared error? Check your answer by printing out the values below."
      ]
    },
    {
      "cell_type": "code",
      "metadata": {
        "id": "QcQhWFylvnXW",
        "colab_type": "code",
        "colab": {
          "base_uri": "https://localhost:8080/",
          "height": 51
        },
        "outputId": "a497ea84-0687-499e-a7df-f2a4466079f6"
      },
      "source": [
        "from sklearn.metrics import mean_squared_error\n",
        "\n",
        "lin_mse = mean_squared_error(lin_predictions, y_test)\n",
        "log_mse = mean_squared_error(log_predictions, y_test)\n",
        "\n",
        "print(lin_mse)\n",
        "print(log_mse)"
      ],
      "execution_count": null,
      "outputs": [
        {
          "output_type": "stream",
          "text": [
            "3683.0356135363745\n",
            "6161.314606741573\n"
          ],
          "name": "stdout"
        }
      ]
    }
  ]
}