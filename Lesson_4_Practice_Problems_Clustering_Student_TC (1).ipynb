{
  "nbformat": 4,
  "nbformat_minor": 0,
  "metadata": {
    "colab": {
      "name": "Lesson_4_Practice_Problems_Clustering_Student_TC.ipynb",
      "provenance": [],
      "collapsed_sections": []
    },
    "kernelspec": {
      "name": "python3",
      "display_name": "Python 3"
    }
  },
  "cells": [
    {
      "cell_type": "markdown",
      "metadata": {
        "id": "rBH8rGN0Iim2",
        "colab_type": "text"
      },
      "source": [
        "# Practice Problems\n",
        "## Lesson 4: Clustering \n",
        "---\n",
        "Created by Terron Ishihara"
      ]
    },
    {
      "cell_type": "markdown",
      "metadata": {
        "id": "2-7iMcVibnSv",
        "colab_type": "text"
      },
      "source": [
        "## KMeans Clustering:\n",
        "\n",
        "![alt text](https://lh3.googleusercontent.com/proxy/RvXBHZFWYzl7xrdyNx2Lah3pKyjmLxp2kgw3L2mI5FlboeCmq6AHP40nFelUjnABk6l4H26sMwb8bwEdJWgbtlA72a-GScNfkMiJ8UL5B-ue7zFJyyPXQFLbHJo)"
      ]
    },
    {
      "cell_type": "markdown",
      "metadata": {
        "id": "X5Ea6C4cInZc",
        "colab_type": "text"
      },
      "source": [
        "### Problem 1\n",
        "\n",
        "Let's first observe how scikit-learn's KMeans classifier works on some randomly generated data. We'll make use of the `make_blobs()` method in `sklearn.datasets`, which randomly generates points that naturally fit into groups (called 'blobs'). This gives us a good dataset to demonstrate the results of KMeans clustering.\n",
        "\n",
        "> We start by importing all the libraries and methods we need."
      ]
    },
    {
      "cell_type": "code",
      "metadata": {
        "id": "0VdAE6tCJRvS",
        "colab_type": "code",
        "colab": {}
      },
      "source": [
        "import matplotlib.pyplot as plt\n",
        "from sklearn.cluster import KMeans\n",
        "from sklearn.datasets import make_blobs"
      ],
      "execution_count": null,
      "outputs": []
    },
    {
      "cell_type": "markdown",
      "metadata": {
        "id": "p4S0nhojNOzi",
        "colab_type": "text"
      },
      "source": [
        "> Now we can use `make_blobs()` to, well, make some blobs. We can specify how many points to generate with `n_samples` and how many blobs to make with `centers`. `random_state` is a seed for the random number generator. Here, we specify that 5 blobs should be made."
      ]
    },
    {
      "cell_type": "code",
      "metadata": {
        "id": "_v1kG2UaNRLp",
        "colab_type": "code",
        "colab": {}
      },
      "source": [
        "# random_state can be any integer value. It is used as a seed for\n",
        "# the random generator so that we get the same random results every\n",
        "# time. Without this specified, each run of this code would produce\n",
        "# a new random set of values. Feel free to change this value to see\n",
        "# what different results show up.\n",
        "random_state = 42\n",
        "# n_samples specifies how many points to generate.\n",
        "# centers specifies how many blobs to make.\n",
        "X, y = make_blobs(n_samples=2000, centers=5, random_state=random_state)"
      ],
      "execution_count": null,
      "outputs": []
    },
    {
      "cell_type": "markdown",
      "metadata": {
        "id": "gYSIAN6LNxsG",
        "colab_type": "text"
      },
      "source": [
        "> Let's see what this looks like by plotting the points."
      ]
    },
    {
      "cell_type": "code",
      "metadata": {
        "id": "UJHp_dCtNzZd",
        "colab_type": "code",
        "colab": {
          "base_uri": "https://localhost:8080/",
          "height": 531
        },
        "outputId": "677ace48-dcea-4c9e-e9bd-64aefdd215c5"
      },
      "source": [
        "# Make the plot a relatively small size\n",
        "plt.figure(figsize=(8, 8))\n",
        "\n",
        "# Plot the blobs\n",
        "# The first and second column of X are the x- and y- values respectively.\n",
        "plt.scatter(X[:, 0], X[:, 1])\n",
        "\n",
        "# Add labels and a title\n",
        "plt.xlabel('x')\n",
        "plt.ylabel('y')\n",
        "plt.title('Random blobs')"
      ],
      "execution_count": null,
      "outputs": [
        {
          "output_type": "execute_result",
          "data": {
            "text/plain": [
              "Text(0.5, 1.0, 'Random blobs')"
            ]
          },
          "metadata": {
            "tags": []
          },
          "execution_count": 4
        },
        {
          "output_type": "display_data",
          "data": {
            "image/png": "[encoded data removed]",
            "text/plain": [
              "<Figure size 576x576 with 1 Axes>"
            ]
          },
          "metadata": {
            "tags": [],
            "needs_background": "light"
          }
        }
      ]
    },
    {
      "cell_type": "markdown",
      "metadata": {
        "id": "k9Wqm4aUN_bE",
        "colab_type": "text"
      },
      "source": [
        "> There are clearly 5 clusters here. Just to make things interesting, let's first classify this data with a `k` value of 3."
      ]
    },
    {
      "cell_type": "code",
      "metadata": {
        "id": "rZONYqIFNVVP",
        "colab_type": "code",
        "colab": {}
      },
      "source": [
        "# Create our KMeans classifier\n",
        "# n_clusters specifies what value of k to use (how many clusters)\n",
        "kmeans_clf = KMeans(n_clusters=5, random_state=random_state)\n",
        "\n",
        "# fit_predict does two things: fits the classifier using X\n",
        "# and then predicts the clusters, assigning an index to each cluster.\n",
        "# You can also call fit() and predict() separately.\n",
        "y_pred = kmeans_clf.fit_predict(X)"
      ],
      "execution_count": null,
      "outputs": []
    },
    {
      "cell_type": "markdown",
      "metadata": {
        "id": "1QTZkFBlOQMk",
        "colab_type": "text"
      },
      "source": [
        "> Plot the data points, but with different colors for each of the clusters we determined using KMeans."
      ]
    },
    {
      "cell_type": "code",
      "metadata": {
        "id": "p4RqzPzvQnc3",
        "colab_type": "code",
        "colab": {
          "base_uri": "https://localhost:8080/",
          "height": 104
        },
        "outputId": "e5bef365-69a6-460e-e7c6-2e0fbd5c8903"
      },
      "source": [
        "kmeans_clf.cluster_centers_\n",
        "#lists out the centroids"
      ],
      "execution_count": null,
      "outputs": [
        {
          "output_type": "execute_result",
          "data": {
            "text/plain": [
              "array([[1.462     , 0.246     ],\n",
              "       [3.83181818, 1.16818182],\n",
              "       [6.28461538, 2.13846154],\n",
              "       [4.64857143, 1.5       ],\n",
              "       [5.39666667, 2.05333333]])"
            ]
          },
          "metadata": {
            "tags": []
          },
          "execution_count": 17
        }
      ]
    },
    {
      "cell_type": "code",
      "metadata": {
        "id": "oh3CmIWiNXBt",
        "colab_type": "code",
        "colab": {
          "base_uri": "https://localhost:8080/",
          "height": 719
        },
        "outputId": "3648d7fa-e585-4e9c-9c52-409437a9ed19"
      },
      "source": [
        "# Make the plot a relatively small size\n",
        "plt.figure(figsize=(8, 8))\n",
        "\n",
        "# Plot the results\n",
        "# c specifies the colors of each point if given an array (as we do here).\n",
        "# A new color will be used for each value in the given array, so each\n",
        "# point in X is given a color corresponding to the predicted value in y_pred.\n",
        "plt.scatter(X[:, 0], X[:, 1], c=y_pred)\n",
        "plt.scatter(kmeans_clf.cluster_centers[: 0],kmeans_clf.cluster_centers_[:, 1], color = \"red\")\n",
        "\n",
        "# Add labels and a title\n",
        "plt.xlabel('x')\n",
        "plt.ylabel('y')\n",
        "plt.title('KMeans Example - Random Data')"
      ],
      "execution_count": null,
      "outputs": [
        {
          "output_type": "error",
          "ename": "AttributeError",
          "evalue": "ignored",
          "traceback": [
            "\u001b[0;31m---------------------------------------------------------------------------\u001b[0m",
            "\u001b[0;31mAttributeError\u001b[0m                            Traceback (most recent call last)",
            "\u001b[0;32m<ipython-input-18-bfc64300636f>\u001b[0m in \u001b[0;36m<module>\u001b[0;34m()\u001b[0m\n\u001b[1;32m      7\u001b[0m \u001b[0;31m# point in X is given a color corresponding to the predicted value in y_pred.\u001b[0m\u001b[0;34m\u001b[0m\u001b[0;34m\u001b[0m\u001b[0;34m\u001b[0m\u001b[0m\n\u001b[1;32m      8\u001b[0m \u001b[0mplt\u001b[0m\u001b[0;34m.\u001b[0m\u001b[0mscatter\u001b[0m\u001b[0;34m(\u001b[0m\u001b[0mX\u001b[0m\u001b[0;34m[\u001b[0m\u001b[0;34m:\u001b[0m\u001b[0;34m,\u001b[0m \u001b[0;36m0\u001b[0m\u001b[0;34m]\u001b[0m\u001b[0;34m,\u001b[0m \u001b[0mX\u001b[0m\u001b[0;34m[\u001b[0m\u001b[0;34m:\u001b[0m\u001b[0;34m,\u001b[0m \u001b[0;36m1\u001b[0m\u001b[0;34m]\u001b[0m\u001b[0;34m,\u001b[0m \u001b[0mc\u001b[0m\u001b[0;34m=\u001b[0m\u001b[0my_pred\u001b[0m\u001b[0;34m)\u001b[0m\u001b[0;34m\u001b[0m\u001b[0;34m\u001b[0m\u001b[0m\n\u001b[0;32m----> 9\u001b[0;31m \u001b[0mplt\u001b[0m\u001b[0;34m.\u001b[0m\u001b[0mscatter\u001b[0m\u001b[0;34m(\u001b[0m\u001b[0mkmeans_clf\u001b[0m\u001b[0;34m.\u001b[0m\u001b[0mcluster_centers\u001b[0m\u001b[0;34m[\u001b[0m\u001b[0;34m:\u001b[0m \u001b[0;36m0\u001b[0m\u001b[0;34m]\u001b[0m\u001b[0;34m,\u001b[0m \u001b[0mkmeans_clf\u001b[0m\u001b[0;34m.\u001b[0m\u001b[0mcluster_centers_\u001b[0m\u001b[0;34m[\u001b[0m\u001b[0;34m:\u001b[0m\u001b[0;34m,\u001b[0m \u001b[0;36m1\u001b[0m\u001b[0;34m]\u001b[0m\u001b[0;34m,\u001b[0m \u001b[0mcolor\u001b[0m \u001b[0;34m=\u001b[0m \u001b[0;34m\"red\"\u001b[0m\u001b[0;34m)\u001b[0m\u001b[0;34m\u001b[0m\u001b[0;34m\u001b[0m\u001b[0m\n\u001b[0m\u001b[1;32m     10\u001b[0m \u001b[0;34m\u001b[0m\u001b[0m\n\u001b[1;32m     11\u001b[0m \u001b[0;31m# Add labels and a title\u001b[0m\u001b[0;34m\u001b[0m\u001b[0;34m\u001b[0m\u001b[0;34m\u001b[0m\u001b[0m\n",
            "\u001b[0;31mAttributeError\u001b[0m: 'KMeans' object has no attribute 'cluster_centers'"
          ]
        },
        {
          "output_type": "display_data",
          "data": {
            "image/png": "[encoded data removed]",
            "text/plain": [
              "<Figure size 576x576 with 1 Axes>"
            ]
          },
          "metadata": {
            "tags": [],
            "needs_background": "light"
          }
        }
      ]
    },
    {
      "cell_type": "markdown",
      "metadata": {
        "id": "JJ80x-PHOYOs",
        "colab_type": "text"
      },
      "source": [
        "> The results are pretty good given that we gave our KMeans classifier an incorrect value for `k`. Try changing the value of `n_clusters` for our KMeans classifier above to 5 and see what the results are. Do the clusters match what you would expect? How about 10 clusters?"
      ]
    },
    {
      "cell_type": "markdown",
      "metadata": {
        "id": "l3vkct82Oylx",
        "colab_type": "text"
      },
      "source": [
        "### Problem 2\n",
        "\n",
        "Let's see how KMeans can be used on real data now. For this example, we'll use the Iris dataset, which provides data points on 3 different types of Iris flowers. To make the plots 2-dimensional and easier to visualize, we'll use 2 of the 4 features: petal length and petal width."
      ]
    },
    {
      "cell_type": "code",
      "metadata": {
        "id": "ShGUegNqPfk4",
        "colab_type": "code",
        "colab": {}
      },
      "source": [
        "import matplotlib.pyplot as plt\n",
        "from sklearn.cluster import KMeans\n",
        "from sklearn.datasets import load_iris\n",
        "\n",
        "iris = load_iris()\n",
        "\n",
        "# Extract just the features at 2 and 3 (petal length and width).\n",
        "# Note that the end index for the range specified here is exclusive.\n",
        "X = iris.data[:,2:4]\n",
        "y = iris.target"
      ],
      "execution_count": null,
      "outputs": []
    },
    {
      "cell_type": "code",
      "metadata": {
        "id": "JY7auy_9QVcO",
        "colab_type": "code",
        "colab": {
          "base_uri": "https://localhost:8080/",
          "height": 1000
        },
        "outputId": "53f97096-2309-4d5d-8ac8-ef373ecbcb8e"
      },
      "source": [
        "X"
      ],
      "execution_count": null,
      "outputs": [
        {
          "output_type": "execute_result",
          "data": {
            "text/plain": [
              "array([[1.4, 0.2],\n",
              "       [1.4, 0.2],\n",
              "       [1.3, 0.2],\n",
              "       [1.5, 0.2],\n",
              "       [1.4, 0.2],\n",
              "       [1.7, 0.4],\n",
              "       [1.4, 0.3],\n",
              "       [1.5, 0.2],\n",
              "       [1.4, 0.2],\n",
              "       [1.5, 0.1],\n",
              "       [1.5, 0.2],\n",
              "       [1.6, 0.2],\n",
              "       [1.4, 0.1],\n",
              "       [1.1, 0.1],\n",
              "       [1.2, 0.2],\n",
              "       [1.5, 0.4],\n",
              "       [1.3, 0.4],\n",
              "       [1.4, 0.3],\n",
              "       [1.7, 0.3],\n",
              "       [1.5, 0.3],\n",
              "       [1.7, 0.2],\n",
              "       [1.5, 0.4],\n",
              "       [1. , 0.2],\n",
              "       [1.7, 0.5],\n",
              "       [1.9, 0.2],\n",
              "       [1.6, 0.2],\n",
              "       [1.6, 0.4],\n",
              "       [1.5, 0.2],\n",
              "       [1.4, 0.2],\n",
              "       [1.6, 0.2],\n",
              "       [1.6, 0.2],\n",
              "       [1.5, 0.4],\n",
              "       [1.5, 0.1],\n",
              "       [1.4, 0.2],\n",
              "       [1.5, 0.2],\n",
              "       [1.2, 0.2],\n",
              "       [1.3, 0.2],\n",
              "       [1.4, 0.1],\n",
              "       [1.3, 0.2],\n",
              "       [1.5, 0.2],\n",
              "       [1.3, 0.3],\n",
              "       [1.3, 0.3],\n",
              "       [1.3, 0.2],\n",
              "       [1.6, 0.6],\n",
              "       [1.9, 0.4],\n",
              "       [1.4, 0.3],\n",
              "       [1.6, 0.2],\n",
              "       [1.4, 0.2],\n",
              "       [1.5, 0.2],\n",
              "       [1.4, 0.2],\n",
              "       [4.7, 1.4],\n",
              "       [4.5, 1.5],\n",
              "       [4.9, 1.5],\n",
              "       [4. , 1.3],\n",
              "       [4.6, 1.5],\n",
              "       [4.5, 1.3],\n",
              "       [4.7, 1.6],\n",
              "       [3.3, 1. ],\n",
              "       [4.6, 1.3],\n",
              "       [3.9, 1.4],\n",
              "       [3.5, 1. ],\n",
              "       [4.2, 1.5],\n",
              "       [4. , 1. ],\n",
              "       [4.7, 1.4],\n",
              "       [3.6, 1.3],\n",
              "       [4.4, 1.4],\n",
              "       [4.5, 1.5],\n",
              "       [4.1, 1. ],\n",
              "       [4.5, 1.5],\n",
              "       [3.9, 1.1],\n",
              "       [4.8, 1.8],\n",
              "       [4. , 1.3],\n",
              "       [4.9, 1.5],\n",
              "       [4.7, 1.2],\n",
              "       [4.3, 1.3],\n",
              "       [4.4, 1.4],\n",
              "       [4.8, 1.4],\n",
              "       [5. , 1.7],\n",
              "       [4.5, 1.5],\n",
              "       [3.5, 1. ],\n",
              "       [3.8, 1.1],\n",
              "       [3.7, 1. ],\n",
              "       [3.9, 1.2],\n",
              "       [5.1, 1.6],\n",
              "       [4.5, 1.5],\n",
              "       [4.5, 1.6],\n",
              "       [4.7, 1.5],\n",
              "       [4.4, 1.3],\n",
              "       [4.1, 1.3],\n",
              "       [4. , 1.3],\n",
              "       [4.4, 1.2],\n",
              "       [4.6, 1.4],\n",
              "       [4. , 1.2],\n",
              "       [3.3, 1. ],\n",
              "       [4.2, 1.3],\n",
              "       [4.2, 1.2],\n",
              "       [4.2, 1.3],\n",
              "       [4.3, 1.3],\n",
              "       [3. , 1.1],\n",
              "       [4.1, 1.3],\n",
              "       [6. , 2.5],\n",
              "       [5.1, 1.9],\n",
              "       [5.9, 2.1],\n",
              "       [5.6, 1.8],\n",
              "       [5.8, 2.2],\n",
              "       [6.6, 2.1],\n",
              "       [4.5, 1.7],\n",
              "       [6.3, 1.8],\n",
              "       [5.8, 1.8],\n",
              "       [6.1, 2.5],\n",
              "       [5.1, 2. ],\n",
              "       [5.3, 1.9],\n",
              "       [5.5, 2.1],\n",
              "       [5. , 2. ],\n",
              "       [5.1, 2.4],\n",
              "       [5.3, 2.3],\n",
              "       [5.5, 1.8],\n",
              "       [6.7, 2.2],\n",
              "       [6.9, 2.3],\n",
              "       [5. , 1.5],\n",
              "       [5.7, 2.3],\n",
              "       [4.9, 2. ],\n",
              "       [6.7, 2. ],\n",
              "       [4.9, 1.8],\n",
              "       [5.7, 2.1],\n",
              "       [6. , 1.8],\n",
              "       [4.8, 1.8],\n",
              "       [4.9, 1.8],\n",
              "       [5.6, 2.1],\n",
              "       [5.8, 1.6],\n",
              "       [6.1, 1.9],\n",
              "       [6.4, 2. ],\n",
              "       [5.6, 2.2],\n",
              "       [5.1, 1.5],\n",
              "       [5.6, 1.4],\n",
              "       [6.1, 2.3],\n",
              "       [5.6, 2.4],\n",
              "       [5.5, 1.8],\n",
              "       [4.8, 1.8],\n",
              "       [5.4, 2.1],\n",
              "       [5.6, 2.4],\n",
              "       [5.1, 2.3],\n",
              "       [5.1, 1.9],\n",
              "       [5.9, 2.3],\n",
              "       [5.7, 2.5],\n",
              "       [5.2, 2.3],\n",
              "       [5. , 1.9],\n",
              "       [5.2, 2. ],\n",
              "       [5.4, 2.3],\n",
              "       [5.1, 1.8]])"
            ]
          },
          "metadata": {
            "tags": []
          },
          "execution_count": 20
        }
      ]
    },
    {
      "cell_type": "markdown",
      "metadata": {
        "id": "MP-XiNAORpHa",
        "colab_type": "text"
      },
      "source": [
        "> a. Plot the data points to see what we're working with. Be sure to give the plot appropriate x- and y-labels and a title."
      ]
    },
    {
      "cell_type": "code",
      "metadata": {
        "id": "WUMt_FLRRH6s",
        "colab_type": "code",
        "colab": {
          "base_uri": "https://localhost:8080/",
          "height": 313
        },
        "outputId": "ae55a531-6530-458e-ce4b-8798d81e97f9"
      },
      "source": [
        "# Plot the blobs\n",
        "# The first and second column of X are the x- and y- values respectively.\n",
        "plt.scatter(X[:, 0], X[:, 1])\n",
        "\n",
        "# Add labels and a title\n",
        "plt.xlabel('x')\n",
        "plt.ylabel('y')\n",
        "plt.title('Random blobs')"
      ],
      "execution_count": null,
      "outputs": [
        {
          "output_type": "execute_result",
          "data": {
            "text/plain": [
              "Text(0.5, 1.0, 'Random blobs')"
            ]
          },
          "metadata": {
            "tags": []
          },
          "execution_count": 22
        },
        {
          "output_type": "display_data",
          "data": {
            "image/png": "[encoded data removed]",
            "text/plain": [
              "<Figure size 432x288 with 1 Axes>"
            ]
          },
          "metadata": {
            "tags": [],
            "needs_background": "light"
          }
        }
      ]
    },
    {
      "cell_type": "markdown",
      "metadata": {
        "id": "9IoaHd9nShxm",
        "colab_type": "text"
      },
      "source": [
        "> b. Create a KMeans classifier for classifying these data points. What value of `k` should be we use here?"
      ]
    },
    {
      "cell_type": "code",
      "metadata": {
        "id": "4Ac_kJyFRtqh",
        "colab_type": "code",
        "colab": {
          "base_uri": "https://localhost:8080/",
          "height": 283
        },
        "outputId": "1a86de9c-848b-43da-e873-9b779a75658e"
      },
      "source": [
        "# Create our KMeans classifier\n",
        "# n_clusters specifies what value of k to use (how many clusters)\n",
        "kmeans_clf = KMeans(n_clusters=3, random_state=random_state)\n",
        "\n",
        "# fit_predict does two things: fits the classifier using X\n",
        "# and then predicts the clusters, assigning an index to each cluster.\n",
        "# You can also call fit() and predict() separately.\n",
        "y_pred = kmeans_clf.fit_predict(X)\n",
        "plt.scatter(X[:, 0], X[:, 1])"
      ],
      "execution_count": null,
      "outputs": [
        {
          "output_type": "execute_result",
          "data": {
            "text/plain": [
              "<matplotlib.collections.PathCollection at 0x7fa86bdde0f0>"
            ]
          },
          "metadata": {
            "tags": []
          },
          "execution_count": 26
        },
        {
          "output_type": "display_data",
          "data": {
            "image/png": "[encoded data removed]",
            "text/plain": [
              "<Figure size 432x288 with 1 Axes>"
            ]
          },
          "metadata": {
            "tags": [],
            "needs_background": "light"
          }
        }
      ]
    },
    {
      "cell_type": "markdown",
      "metadata": {
        "id": "bSsfYqM_Strx",
        "colab_type": "text"
      },
      "source": [
        "> c. Plot the data points again, but with different colors for each cluster. Do the results seem reasonable?"
      ]
    },
    {
      "cell_type": "code",
      "metadata": {
        "id": "yXckgb7oS7tK",
        "colab_type": "code",
        "colab": {}
      },
      "source": [
        ""
      ],
      "execution_count": null,
      "outputs": []
    },
    {
      "cell_type": "markdown",
      "metadata": {
        "id": "3UMyBtqzTT3V",
        "colab_type": "text"
      },
      "source": [
        "> d. Plot the true clusters to check see how the above model compares."
      ]
    },
    {
      "cell_type": "code",
      "metadata": {
        "id": "C-kRGQL1T2fH",
        "colab_type": "code",
        "colab": {}
      },
      "source": [
        ""
      ],
      "execution_count": null,
      "outputs": []
    }
  ]
}